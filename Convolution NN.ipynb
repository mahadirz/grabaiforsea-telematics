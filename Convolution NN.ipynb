{
 "cells": [
  {
   "cell_type": "code",
   "execution_count": 1,
   "metadata": {},
   "outputs": [
    {
     "name": "stderr",
     "output_type": "stream",
     "text": [
      "Using TensorFlow backend.\n"
     ]
    }
   ],
   "source": [
    "from matplotlib import pyplot as plt\n",
    "import h5py\n",
    "import numpy as np\n",
    "import pandas as pd\n",
    "import seaborn as sns\n",
    "from scipy import stats\n",
    "\n",
    "from sklearn import metrics\n",
    "from sklearn.metrics import classification_report\n",
    "from sklearn import preprocessing\n",
    "from sklearn.metrics import roc_curve\n",
    "from sklearn.metrics import auc\n",
    "\n",
    "import keras\n",
    "from keras.models import Sequential\n",
    "from keras.layers import Dense, Dropout, Flatten, Reshape, GlobalAveragePooling1D\n",
    "from keras.layers import Conv2D, MaxPooling2D, Conv1D,Conv2D, MaxPooling1D\n",
    "from keras.utils import np_utils\n",
    "from sklearn.model_selection import train_test_split"
   ]
  },
  {
   "cell_type": "code",
   "execution_count": 32,
   "metadata": {},
   "outputs": [],
   "source": [
    "# Load preprocessed file\n",
    "with h5py.File('data/Xpad.h5', 'r') as hf:\n",
    "    Xpad = hf['Xpad'][:]"
   ]
  },
  {
   "cell_type": "code",
   "execution_count": 33,
   "metadata": {},
   "outputs": [],
   "source": [
    "df = pd.read_parquet(\"data/bookingID.parquet\")"
   ]
  },
  {
   "cell_type": "code",
   "execution_count": 34,
   "metadata": {},
   "outputs": [
    {
     "name": "stdout",
     "output_type": "stream",
     "text": [
      "(19863, 3)\n",
      "(19863, 1000, 11)\n"
     ]
    }
   ],
   "source": [
    "# Inspect label and feature shape\n",
    "print(df.shape)\n",
    "print(Xpad.shape)\n",
    "assert df.shape[0] == Xpad.shape[0]"
   ]
  },
  {
   "cell_type": "code",
   "execution_count": 35,
   "metadata": {},
   "outputs": [],
   "source": [
    "# reshape to 2d\n",
    "num_timestep = Xpad.shape[1]\n",
    "num_feature = Xpad.shape[2]\n",
    "X = Xpad.reshape(Xpad.shape[0], num_timestep*num_feature)"
   ]
  },
  {
   "cell_type": "code",
   "execution_count": 36,
   "metadata": {},
   "outputs": [],
   "source": [
    "# take only label 0 and 1\n",
    "y = df['label'].values"
   ]
  },
  {
   "cell_type": "code",
   "execution_count": 42,
   "metadata": {},
   "outputs": [],
   "source": [
    "# sanity check\n",
    "rnd = np.random.randint(0,Xpad.shape[0]-1, size=2)\n",
    "assert np.array_equal(Xpad[rnd[0]].reshape(num_timestep*num_feature),X[rnd[0]])\n",
    "assert np.array_equal(Xpad[rnd[1]].reshape(num_timestep*num_feature),X[rnd[1]])"
   ]
  },
  {
   "cell_type": "code",
   "execution_count": 43,
   "metadata": {},
   "outputs": [],
   "source": [
    "# split X and y into train and test\n",
    "X_train, X_test, y_train, y_test = train_test_split(X, y, test_size=0.2)"
   ]
  },
  {
   "cell_type": "code",
   "execution_count": 44,
   "metadata": {},
   "outputs": [
    {
     "data": {
      "text/html": [
       "<div>\n",
       "<style scoped>\n",
       "    .dataframe tbody tr th:only-of-type {\n",
       "        vertical-align: middle;\n",
       "    }\n",
       "\n",
       "    .dataframe tbody tr th {\n",
       "        vertical-align: top;\n",
       "    }\n",
       "\n",
       "    .dataframe thead th {\n",
       "        text-align: right;\n",
       "    }\n",
       "</style>\n",
       "<table border=\"1\" class=\"dataframe\">\n",
       "  <thead>\n",
       "    <tr style=\"text-align: right;\">\n",
       "      <th></th>\n",
       "      <th>y</th>\n",
       "      <th>count</th>\n",
       "    </tr>\n",
       "  </thead>\n",
       "  <tbody>\n",
       "    <tr>\n",
       "      <th>0</th>\n",
       "      <td>0.0</td>\n",
       "      <td>11901</td>\n",
       "    </tr>\n",
       "    <tr>\n",
       "      <th>1</th>\n",
       "      <td>1.0</td>\n",
       "      <td>3989</td>\n",
       "    </tr>\n",
       "  </tbody>\n",
       "</table>\n",
       "</div>"
      ],
      "text/plain": [
       "     y  count\n",
       "0  0.0  11901\n",
       "1  1.0   3989"
      ]
     },
     "execution_count": 44,
     "metadata": {},
     "output_type": "execute_result"
    }
   ],
   "source": [
    "# inspect class imbalance\n",
    "pd.DataFrame(y_train, columns=['y'])\\\n",
    ".reset_index()\\\n",
    ".groupby('y', as_index=False)\\\n",
    ".count()\\\n",
    ".rename(columns={'index':'count'})"
   ]
  },
  {
   "cell_type": "code",
   "execution_count": 45,
   "metadata": {},
   "outputs": [
    {
     "data": {
      "text/html": [
       "<div>\n",
       "<style scoped>\n",
       "    .dataframe tbody tr th:only-of-type {\n",
       "        vertical-align: middle;\n",
       "    }\n",
       "\n",
       "    .dataframe tbody tr th {\n",
       "        vertical-align: top;\n",
       "    }\n",
       "\n",
       "    .dataframe thead th {\n",
       "        text-align: right;\n",
       "    }\n",
       "</style>\n",
       "<table border=\"1\" class=\"dataframe\">\n",
       "  <thead>\n",
       "    <tr style=\"text-align: right;\">\n",
       "      <th></th>\n",
       "      <th>y</th>\n",
       "      <th>count</th>\n",
       "    </tr>\n",
       "  </thead>\n",
       "  <tbody>\n",
       "    <tr>\n",
       "      <th>0</th>\n",
       "      <td>0.0</td>\n",
       "      <td>3011</td>\n",
       "    </tr>\n",
       "    <tr>\n",
       "      <th>1</th>\n",
       "      <td>1.0</td>\n",
       "      <td>962</td>\n",
       "    </tr>\n",
       "  </tbody>\n",
       "</table>\n",
       "</div>"
      ],
      "text/plain": [
       "     y  count\n",
       "0  0.0   3011\n",
       "1  1.0    962"
      ]
     },
     "execution_count": 45,
     "metadata": {},
     "output_type": "execute_result"
    }
   ],
   "source": [
    "# inspect class imbalance\n",
    "pd.DataFrame(y_test, columns=['y'])\\\n",
    ".reset_index()\\\n",
    ".groupby('y', as_index=False)\\\n",
    ".count()\\\n",
    ".rename(columns={'index':'count'})"
   ]
  },
  {
   "cell_type": "code",
   "execution_count": 14,
   "metadata": {},
   "outputs": [
    {
     "name": "stdout",
     "output_type": "stream",
     "text": [
      "(None, 11000)\n",
      "(None, 901, 10)\n",
      "(None, 90, 10)\n",
      "(None, 20, 45, 1)\n",
      "(None, 1, 16, 100)\n",
      "(None, 1, 4, 100)\n",
      "(None, 400)\n",
      "(None, 128)\n",
      "(None, 64)\n",
      "(None, 1)\n",
      "_________________________________________________________________\n",
      "Layer (type)                 Output Shape              Param #   \n",
      "=================================================================\n",
      "reshape_5 (Reshape)          (None, 1000, 11)          0         \n",
      "_________________________________________________________________\n",
      "conv1d_3 (Conv1D)            (None, 901, 10)           11010     \n",
      "_________________________________________________________________\n",
      "max_pooling1d_2 (MaxPooling1 (None, 90, 10)            0         \n",
      "_________________________________________________________________\n",
      "reshape_6 (Reshape)          (None, 20, 45, 1)         0         \n",
      "_________________________________________________________________\n",
      "conv2d_2 (Conv2D)            (None, 1, 16, 100)        60100     \n",
      "_________________________________________________________________\n",
      "max_pooling2d_2 (MaxPooling2 (None, 1, 4, 100)         0         \n",
      "_________________________________________________________________\n",
      "flatten_2 (Flatten)          (None, 400)               0         \n",
      "_________________________________________________________________\n",
      "dense_4 (Dense)              (None, 128)               51328     \n",
      "_________________________________________________________________\n",
      "dense_5 (Dense)              (None, 64)                8256      \n",
      "_________________________________________________________________\n",
      "dense_6 (Dense)              (None, 1)                 65        \n",
      "=================================================================\n",
      "Total params: 130,759\n",
      "Trainable params: 130,759\n",
      "Non-trainable params: 0\n",
      "_________________________________________________________________\n",
      "None\n"
     ]
    }
   ],
   "source": [
    "# Architecture 1\n",
    "input_shape = num_timestep * num_feature\n",
    "model_m = Sequential()\n",
    "model_m.add(Reshape((num_timestep, num_feature), input_shape=(input_shape,)))\n",
    "model_m.add(Conv1D (kernel_size = 100, filters = 10, input_shape=(num_timestep, num_feature), activation='relu'))\n",
    "print(model_m.input_shape) #debug\n",
    "print(model_m.output_shape) #debug\n",
    "model_m.add(MaxPooling1D(pool_size = (10), strides=(10)))\n",
    "print(model_m.output_shape)\n",
    "model_m.add(Reshape([20,-1,1]))   \n",
    "print(model_m.output_shape)\n",
    "model_m.add(Conv2D (kernel_size = (20,30), filters = 100, activation='relu'))\n",
    "print(model_m.output_shape)\n",
    "model_m.add(MaxPooling2D(pool_size = (1,10), strides=(1,2)))\n",
    "print(model_m.output_shape)\n",
    "model_m.add(Flatten())\n",
    "print(model_m.output_shape)\n",
    "model_m.add(Dense (128, activation='relu'))\n",
    "print(model_m.output_shape)\n",
    "model_m.add(Dense (64, activation='relu'))\n",
    "print(model_m.output_shape)\n",
    "model_m.add(Dense(1, activation = 'sigmoid',activity_regularizer=keras.regularizers.l2()))\n",
    "print(model_m.output_shape)\n",
    "print(model_m.summary())"
   ]
  },
  {
   "cell_type": "code",
   "execution_count": 70,
   "metadata": {},
   "outputs": [
    {
     "name": "stdout",
     "output_type": "stream",
     "text": [
      "_________________________________________________________________\n",
      "Layer (type)                 Output Shape              Param #   \n",
      "=================================================================\n",
      "reshape_14 (Reshape)         (None, 1000, 11)          0         \n",
      "_________________________________________________________________\n",
      "conv1d_32 (Conv1D)           (None, 985, 100)          17700     \n",
      "_________________________________________________________________\n",
      "conv1d_33 (Conv1D)           (None, 970, 100)          160100    \n",
      "_________________________________________________________________\n",
      "max_pooling1d_10 (MaxPooling (None, 323, 100)          0         \n",
      "_________________________________________________________________\n",
      "conv1d_34 (Conv1D)           (None, 308, 160)          256160    \n",
      "_________________________________________________________________\n",
      "conv1d_35 (Conv1D)           (None, 293, 160)          409760    \n",
      "_________________________________________________________________\n",
      "global_average_pooling1d_8 ( (None, 160)               0         \n",
      "_________________________________________________________________\n",
      "dropout_8 (Dropout)          (None, 160)               0         \n",
      "_________________________________________________________________\n",
      "dense_14 (Dense)             (None, 1)                 161       \n",
      "=================================================================\n",
      "Total params: 843,881\n",
      "Trainable params: 843,881\n",
      "Non-trainable params: 0\n",
      "_________________________________________________________________\n",
      "None\n"
     ]
    }
   ],
   "source": [
    "# Architecture 2\n",
    "input_shape = num_timestep * num_feature\n",
    "model_m = Sequential()\n",
    "model_m.add(Reshape((num_timestep, num_feature), input_shape=(input_shape,)))\n",
    "model_m.add(Conv1D(100, 16, activation='relu', input_shape=(num_timestep, num_feature)))\n",
    "model_m.add(Conv1D(100, 16, activation='relu'))\n",
    "model_m.add(MaxPooling1D(3))\n",
    "model_m.add(Conv1D(160, 16, activation='relu'))\n",
    "model_m.add(Conv1D(160, 16, activation='relu'))\n",
    "model_m.add(GlobalAveragePooling1D())\n",
    "model_m.add(Dropout(0.5))\n",
    "model_m.add(Dense(1, activation='sigmoid'))\n",
    "print(model_m.summary())"
   ]
  },
  {
   "cell_type": "code",
   "execution_count": null,
   "metadata": {},
   "outputs": [
    {
     "name": "stdout",
     "output_type": "stream",
     "text": [
      "Train on 14301 samples, validate on 1589 samples\n",
      "Epoch 1/50\n",
      "14301/14301 [==============================] - 35s 2ms/step - loss: 0.5776 - auc: 0.5343 - val_loss: 0.5698 - val_auc: 0.5349\n",
      "Epoch 2/50\n",
      "14301/14301 [==============================] - 34s 2ms/step - loss: 0.5619 - auc: 0.5366 - val_loss: 0.5631 - val_auc: 0.5472\n",
      "Epoch 3/50\n",
      "14301/14301 [==============================] - 34s 2ms/step - loss: 0.5499 - auc: 0.5563 - val_loss: 0.5479 - val_auc: 0.5673\n",
      "Epoch 4/50\n",
      "14301/14301 [==============================] - 34s 2ms/step - loss: 0.5389 - auc: 0.5779 - val_loss: 0.5555 - val_auc: 0.5874\n",
      "Epoch 5/50\n",
      "14301/14301 [==============================] - 34s 2ms/step - loss: 0.5370 - auc: 0.5950 - val_loss: 0.5422 - val_auc: 0.6015\n",
      "Epoch 6/50\n",
      "14301/14301 [==============================] - 34s 2ms/step - loss: 0.5306 - auc: 0.6073 - val_loss: 0.5348 - val_auc: 0.6128\n",
      "Epoch 7/50\n",
      "14301/14301 [==============================] - 34s 2ms/step - loss: 0.5297 - auc: 0.6172 - val_loss: 0.5361 - val_auc: 0.6211\n",
      "Epoch 8/50\n",
      "14301/14301 [==============================] - 34s 2ms/step - loss: 0.5303 - auc: 0.6238 - val_loss: 0.5333 - val_auc: 0.6270\n",
      "Epoch 9/50\n",
      "14301/14301 [==============================] - 34s 2ms/step - loss: 0.5286 - auc: 0.6298 - val_loss: 0.5318 - val_auc: 0.6322\n",
      "Epoch 10/50\n",
      "14301/14301 [==============================] - 34s 2ms/step - loss: 0.5276 - auc: 0.6347 - val_loss: 0.5382 - val_auc: 0.6364\n",
      "Epoch 11/50\n",
      "14301/14301 [==============================] - 34s 2ms/step - loss: 0.5274 - auc: 0.6380 - val_loss: 0.5361 - val_auc: 0.6397\n",
      "Epoch 12/50\n",
      "14301/14301 [==============================] - 34s 2ms/step - loss: 0.5296 - auc: 0.6409 - val_loss: 0.5382 - val_auc: 0.6420\n",
      "Epoch 13/50\n",
      "14301/14301 [==============================] - 34s 2ms/step - loss: 0.5264 - auc: 0.6435 - val_loss: 0.5398 - val_auc: 0.6444\n",
      "Epoch 14/50\n",
      "14301/14301 [==============================] - 34s 2ms/step - loss: 0.5259 - auc: 0.6456 - val_loss: 0.5342 - val_auc: 0.6466\n",
      "Epoch 15/50\n",
      "14301/14301 [==============================] - 33s 2ms/step - loss: 0.5264 - auc: 0.6476 - val_loss: 0.5325 - val_auc: 0.6485\n",
      "Epoch 16/50\n",
      "14301/14301 [==============================] - 34s 2ms/step - loss: 0.5270 - auc: 0.6494 - val_loss: 0.5333 - val_auc: 0.6501\n",
      "Epoch 17/50\n",
      "14301/14301 [==============================] - 34s 2ms/step - loss: 0.5253 - auc: 0.6511 - val_loss: 0.5292 - val_auc: 0.6518\n",
      "Epoch 18/50\n",
      "14301/14301 [==============================] - 34s 2ms/step - loss: 0.5243 - auc: 0.6524 - val_loss: 0.5305 - val_auc: 0.6532\n",
      "Epoch 19/50\n",
      "14301/14301 [==============================] - 34s 2ms/step - loss: 0.5255 - auc: 0.6537 - val_loss: 0.5355 - val_auc: 0.6544\n",
      "Epoch 20/50\n",
      "14301/14301 [==============================] - 34s 2ms/step - loss: 0.5231 - auc: 0.6551 - val_loss: 0.5331 - val_auc: 0.6558\n",
      "Epoch 21/50\n",
      "14301/14301 [==============================] - 34s 2ms/step - loss: 0.5244 - auc: 0.6564 - val_loss: 0.5309 - val_auc: 0.6570\n",
      "Epoch 22/50\n",
      "14301/14301 [==============================] - 34s 2ms/step - loss: 0.5241 - auc: 0.6576 - val_loss: 0.5308 - val_auc: 0.6581\n",
      "Epoch 23/50\n",
      "14301/14301 [==============================] - 34s 2ms/step - loss: 0.5225 - auc: 0.6587 - val_loss: 0.5289 - val_auc: 0.6592\n",
      "Epoch 24/50\n",
      "14301/14301 [==============================] - 34s 2ms/step - loss: 0.5214 - auc: 0.6599 - val_loss: 0.5291 - val_auc: 0.6604\n",
      "Epoch 25/50\n",
      "14301/14301 [==============================] - 34s 2ms/step - loss: 0.5209 - auc: 0.6609 - val_loss: 0.5360 - val_auc: 0.6615\n",
      "Epoch 26/50\n",
      "14301/14301 [==============================] - 34s 2ms/step - loss: 0.5206 - auc: 0.6621 - val_loss: 0.5344 - val_auc: 0.6625\n",
      "Epoch 27/50\n",
      "14301/14301 [==============================] - 34s 2ms/step - loss: 0.5203 - auc: 0.6630 - val_loss: 0.5372 - val_auc: 0.6635\n",
      "Epoch 28/50\n",
      "  976/14301 [=>............................] - ETA: 30s - loss: 0.5269 - auc: 0.6635"
     ]
    }
   ],
   "source": [
    "%%time\n",
    "import tensorflow as tf\n",
    "from keras import backend as K\n",
    "\n",
    "def auc(y_true, y_pred):\n",
    "    auc = tf.metrics.auc(y_true, y_pred)[1]\n",
    "    K.get_session().run(tf.local_variables_initializer())\n",
    "    return auc\n",
    "\n",
    "# The EarlyStopping callback monitors training accuracy:\n",
    "# if it fails to improve for two consecutive epochs,\n",
    "# training stops early\n",
    "callbacks_list = [\n",
    "    keras.callbacks.ModelCheckpoint(\n",
    "        filepath='models/cnn-best_model-fixed.h5',\n",
    "        monitor='val_auc', save_best_only=True, save_weights_only=False),\n",
    "    keras.callbacks.EarlyStopping(monitor='auc', patience=3, mode='max', restore_best_weights=True, verbose=True) #monitor='acc'\n",
    "]\n",
    "\n",
    "model_m.compile(loss='binary_crossentropy',\n",
    "                optimizer='adam', metrics=[auc])\n",
    "\n",
    "# Hyper-parameters\n",
    "BATCH_SIZE = 16\n",
    "EPOCHS = 50\n",
    "\n",
    "# Enable validation to use ModelCheckpoint and EarlyStopping callbacks.\n",
    "history = model_m.fit(X_train,\n",
    "                      y_train,\n",
    "                      batch_size=BATCH_SIZE,\n",
    "                      epochs=EPOCHS,\n",
    "                      callbacks=callbacks_list,\n",
    "                      validation_split=0.1,\n",
    "                      #validation_data=(X_test, y_test),\n",
    "                      verbose=1)"
   ]
  },
  {
   "cell_type": "code",
   "execution_count": 73,
   "metadata": {},
   "outputs": [
    {
     "name": "stderr",
     "output_type": "stream",
     "text": [
      "/usr/local/envs/py3env/lib/python3.5/site-packages/matplotlib/font_manager.py:1320: UserWarning: findfont: Font family ['sans-serif'] not found. Falling back to DejaVu Sans\n",
      "  (prop.get_family(), self.defaultFamily[fontext]))\n"
     ]
    },
    {
     "data": {
      "image/png": "[encoded data removed]",
      "text/plain": [
       "<matplotlib.figure.Figure at 0x7f39dcc86898>"
      ]
     },
     "metadata": {},
     "output_type": "display_data"
    }
   ],
   "source": [
    "# summarize history for accuracy and loss\n",
    "plt.figure(figsize=(6, 4))\n",
    "plt.plot(history.history['auc'], \"g--\", label=\"AUC of training data\")\n",
    "plt.plot(history.history['val_auc'], \"g\", label=\"AUC of validation data\")\n",
    "plt.plot(history.history['loss'], \"r--\", label=\"Loss of training data\")\n",
    "plt.plot(history.history['val_loss'], \"r\", label=\"Loss of validation data\")\n",
    "plt.title('Model AUC and Loss')\n",
    "plt.ylabel('AUC and Loss')\n",
    "plt.xlabel('Training Epoch')\n",
    "plt.ylim(0)\n",
    "plt.legend()\n",
    "plt.show()"
   ]
  },
  {
   "cell_type": "code",
   "execution_count": 74,
   "metadata": {},
   "outputs": [
    {
     "name": "stdout",
     "output_type": "stream",
     "text": [
      "3973/3973 [==============================] - 4s 904us/step\n",
      "\\AUC on test data: 0.68\n",
      "\n",
      "Loss on test data: 0.51\n"
     ]
    }
   ],
   "source": [
    "# check on test set\n",
    "score = model_m.evaluate(X_test, y_test, verbose=1)\n",
    "\n",
    "print(\"\\AUC on test data: %0.2f\" % score[1])\n",
    "print(\"\\nLoss on test data: %0.2f\" % score[0])"
   ]
  },
  {
   "cell_type": "code",
   "execution_count": 75,
   "metadata": {},
   "outputs": [
    {
     "name": "stderr",
     "output_type": "stream",
     "text": [
      "/usr/local/envs/py3env/lib/python3.5/site-packages/matplotlib/font_manager.py:1320: UserWarning: findfont: Font family ['sans-serif'] not found. Falling back to DejaVu Sans\n",
      "  (prop.get_family(), self.defaultFamily[fontext]))\n"
     ]
    },
    {
     "data": {
      "image/png": "[encoded data removed]",
      "text/plain": [
       "<matplotlib.figure.Figure at 0x7f39dcc511d0>"
      ]
     },
     "metadata": {},
     "output_type": "display_data"
    },
    {
     "data": {
      "image/png": "[encoded data removed]",
      "text/plain": [
       "<matplotlib.figure.Figure at 0x7f39dccbffd0>"
      ]
     },
     "metadata": {},
     "output_type": "display_data"
    }
   ],
   "source": [
    "# Confusion matrix\n",
    "y_pred_test_raw = model_m.predict(X_test).ravel()\n",
    "y_pred_train_raw = model_m.predict(X_train).ravel()\n",
    "\n",
    "y_pred_test = (y_pred_test_raw > 0.5).astype(int)\n",
    "y_pred_train = (y_pred_train_raw > 0.5).astype(int)\n",
    "\n",
    "def plot_confusion_matrix(y, y_hat):\n",
    "  matrix = metrics.confusion_matrix(y, y_hat)\n",
    "  plt.figure(figsize=(6, 4))\n",
    "  sns.heatmap(matrix,\n",
    "              cmap=\"coolwarm\",\n",
    "              linecolor='white',\n",
    "              linewidths=1,\n",
    "              annot=True,\n",
    "              fmt=\"d\")\n",
    "  plt.title(\"Confusion Matrix\")\n",
    "  plt.ylabel(\"True Label\")\n",
    "  plt.xlabel(\"Predicted Label\")\n",
    "  plt.show()\n",
    "  \n",
    "plot_confusion_matrix(y_train, y_pred_train)\n",
    "plot_confusion_matrix(y_test, y_pred_test)"
   ]
  },
  {
   "cell_type": "code",
   "execution_count": 31,
   "metadata": {},
   "outputs": [
    {
     "name": "stdout",
     "output_type": "stream",
     "text": [
      "             precision    recall  f1-score   support\n",
      "\n",
      "        0.0       0.75      1.00      0.86      3006\n",
      "        1.0       0.00      0.00      0.00       991\n",
      "\n",
      "avg / total       0.57      0.75      0.65      3997\n",
      "\n"
     ]
    },
    {
     "name": "stderr",
     "output_type": "stream",
     "text": [
      "/usr/local/envs/py3env/lib/python3.5/site-packages/sklearn/metrics/classification.py:1135: UndefinedMetricWarning: Precision and F-score are ill-defined and being set to 0.0 in labels with no predicted samples.\n",
      "  'precision', 'predicted', average, warn_for)\n"
     ]
    }
   ],
   "source": [
    "print(classification_report(y_test, y_pred_test))"
   ]
  },
  {
   "cell_type": "code",
   "execution_count": 20,
   "metadata": {},
   "outputs": [],
   "source": [
    "fpr_train, tpr_train, thresholds_keras = roc_curve(y_train, y_pred_train_raw)\n",
    "fpr_test, tpr_test, thresholds_keras = roc_curve(y_test, y_pred_test_raw)"
   ]
  },
  {
   "cell_type": "code",
   "execution_count": 21,
   "metadata": {},
   "outputs": [],
   "source": [
    "auc_keras = auc(fpr_test, tpr_test)"
   ]
  },
  {
   "cell_type": "code",
   "execution_count": 22,
   "metadata": {},
   "outputs": [],
   "source": [
    "def plot_roc(fpr, tpr):\n",
    "  plt.figure(1)\n",
    "  plt.plot([0, 1], [0, 1], 'k--')\n",
    "  plt.plot(fpr, tpr, label='(area = {:.3f})'.format(auc_keras))\n",
    "  plt.xlabel('False positive rate')\n",
    "  plt.ylabel('True positive rate')\n",
    "  plt.title('ROC curve')\n",
    "  plt.legend(loc='best')\n",
    "  plt.show()"
   ]
  },
  {
   "cell_type": "code",
   "execution_count": 23,
   "metadata": {},
   "outputs": [
    {
     "name": "stderr",
     "output_type": "stream",
     "text": [
      "/usr/local/envs/py3env/lib/python3.5/site-packages/matplotlib/font_manager.py:1320: UserWarning: findfont: Font family ['sans-serif'] not found. Falling back to DejaVu Sans\n",
      "  (prop.get_family(), self.defaultFamily[fontext]))\n"
     ]
    },
    {
     "data": {
      "image/png": "[encoded data removed]",
      "text/plain": [
       "<matplotlib.figure.Figure at 0x7f39cb1716a0>"
      ]
     },
     "metadata": {},
     "output_type": "display_data"
    }
   ],
   "source": [
    "plot_roc(fpr_train,tpr_train)"
   ]
  },
  {
   "cell_type": "code",
   "execution_count": 24,
   "metadata": {},
   "outputs": [
    {
     "name": "stderr",
     "output_type": "stream",
     "text": [
      "/usr/local/envs/py3env/lib/python3.5/site-packages/matplotlib/font_manager.py:1320: UserWarning: findfont: Font family ['sans-serif'] not found. Falling back to DejaVu Sans\n",
      "  (prop.get_family(), self.defaultFamily[fontext]))\n"
     ]
    },
    {
     "data": {
      "image/png": "[encoded data removed]",
      "text/plain": [
       "<matplotlib.figure.Figure at 0x7f39c80c1940>"
      ]
     },
     "metadata": {},
     "output_type": "display_data"
    }
   ],
   "source": [
    "plot_roc(fpr_test,tpr_test)"
   ]
  },
  {
   "cell_type": "code",
   "execution_count": 27,
   "metadata": {},
   "outputs": [],
   "source": [
    "## output to file for analysis\n",
    "y_pred = model_m.predict(X)"
   ]
  },
  {
   "cell_type": "code",
   "execution_count": 31,
   "metadata": {},
   "outputs": [],
   "source": [
    "pd.DataFrame(y_pred).rename(columns={0:'yhat'}).to_parquet(\"data/cnn-ypred.parquet\")"
   ]
  },
  {
   "cell_type": "code",
   "execution_count": null,
   "metadata": {},
   "outputs": [],
   "source": []
  }
 ],
 "metadata": {
  "kernelspec": {
   "display_name": "Python 3",
   "language": "python",
   "name": "python3"
  },
  "language_info": {
   "codemirror_mode": {
    "name": "ipython",
    "version": 3
   },
   "file_extension": ".py",
   "mimetype": "text/x-python",
   "name": "python",
   "nbconvert_exporter": "python",
   "pygments_lexer": "ipython3",
   "version": "3.5.6"
  }
 },
 "nbformat": 4,
 "nbformat_minor": 2
}
