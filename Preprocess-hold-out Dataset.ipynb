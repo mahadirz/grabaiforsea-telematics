{
 "cells": [
  {
   "cell_type": "markdown",
   "metadata": {},
   "source": [
    "# Preprocess Data"
   ]
  },
  {
   "cell_type": "code",
   "execution_count": 20,
   "metadata": {},
   "outputs": [],
   "source": [
    "path_to_feature_dir = \"safety/features/\"\n",
    "path_to_label_dir = \"safety/labels/\""
   ]
  },
  {
   "cell_type": "code",
   "execution_count": 4,
   "metadata": {},
   "outputs": [
    {
     "name": "stdout",
     "output_type": "stream",
     "text": [
      "Data already downloaded\n"
     ]
    }
   ],
   "source": [
    "import os\n",
    "if not os.path.isdir(\"safety\"):\n",
    "  !wget https://s3-ap-southeast-1.amazonaws.com/grab-aiforsea-dataset/safety.zip && unzip safety && rm safety.zip\n",
    "else:\n",
    "  print(\"Data already downloaded\")"
   ]
  },
  {
   "cell_type": "code",
   "execution_count": 5,
   "metadata": {},
   "outputs": [
    {
     "name": "stdout",
     "output_type": "stream",
     "text": [
      "['.DS_Store', 'labels', 'data_dictionary.xlsx', 'features']\n"
     ]
    }
   ],
   "source": [
    "import h5py\n",
    "import numpy as np \n",
    "import pandas as pd \n",
    "from scipy import stats\n",
    "from sklearn import preprocessing\n",
    "import gc\n",
    "print(os.listdir(\"safety\"))\n",
    "from sklearn.externals import joblib\n",
    "from tqdm import tqdm_notebook as tqdm"
   ]
  },
  {
   "cell_type": "code",
   "execution_count": 6,
   "metadata": {},
   "outputs": [],
   "source": [
    "def read_multiple_csv(path):\n",
    "    files = os.listdir(path)\n",
    "    df = None\n",
    "    pbar = tqdm(total=len(files))\n",
    "    for f in files:\n",
    "        ext = f.split(\".\")\n",
    "        if len(ext)>0 and ext[-1] == \"csv\":\n",
    "            #print(f)\n",
    "            _ = pd.read_csv(os.path.join(path, f))\n",
    "            if df is None:\n",
    "                df = _\n",
    "            else:\n",
    "                df = df.append(_)\n",
    "        pbar.update(1)\n",
    "    del _\n",
    "    gc.collect()\n",
    "    return df"
   ]
  },
  {
   "cell_type": "code",
   "execution_count": 9,
   "metadata": {},
   "outputs": [
    {
     "data": {
      "application/vnd.jupyter.widget-view+json": {
       "model_id": "713aac7e852b4348a7ccd6e5e11b1dc0",
       "version_major": 2,
       "version_minor": 0
      },
      "text/plain": [
       "HBox(children=(IntProgress(value=0, max=11), HTML(value='')))"
      ]
     },
     "metadata": {},
     "output_type": "display_data"
    },
    {
     "name": "stdout",
     "output_type": "stream",
     "text": [
      "CPU times: user 36.2 s, sys: 6.19 s, total: 42.4 s\n",
      "Wall time: 42.4 s\n"
     ]
    }
   ],
   "source": [
    "%%time\n",
    "feature_df = read_multiple_csv(path_to_feature_dir)"
   ]
  },
  {
   "cell_type": "code",
   "execution_count": 4,
   "metadata": {},
   "outputs": [],
   "source": [
    "#feature_df.to_parquet(\"data/original_features.parquet\")"
   ]
  },
  {
   "cell_type": "code",
   "execution_count": 5,
   "metadata": {},
   "outputs": [
    {
     "data": {
      "text/html": [
       "<div>\n",
       "<style scoped>\n",
       "    .dataframe tbody tr th:only-of-type {\n",
       "        vertical-align: middle;\n",
       "    }\n",
       "\n",
       "    .dataframe tbody tr th {\n",
       "        vertical-align: top;\n",
       "    }\n",
       "\n",
       "    .dataframe thead th {\n",
       "        text-align: right;\n",
       "    }\n",
       "</style>\n",
       "<table border=\"1\" class=\"dataframe\">\n",
       "  <thead>\n",
       "    <tr style=\"text-align: right;\">\n",
       "      <th></th>\n",
       "      <th>bookingID</th>\n",
       "      <th>Accuracy</th>\n",
       "      <th>Bearing</th>\n",
       "      <th>acceleration_x</th>\n",
       "      <th>acceleration_y</th>\n",
       "      <th>acceleration_z</th>\n",
       "      <th>gyro_x</th>\n",
       "      <th>gyro_y</th>\n",
       "      <th>gyro_z</th>\n",
       "      <th>second</th>\n",
       "      <th>Speed</th>\n",
       "    </tr>\n",
       "  </thead>\n",
       "  <tbody>\n",
       "    <tr>\n",
       "      <th>494610</th>\n",
       "      <td>0</td>\n",
       "      <td>8.0</td>\n",
       "      <td>316.671051</td>\n",
       "      <td>-1.678543</td>\n",
       "      <td>-9.668259</td>\n",
       "      <td>-1.181485</td>\n",
       "      <td>0.005701</td>\n",
       "      <td>-0.262353</td>\n",
       "      <td>-0.050388</td>\n",
       "      <td>948.0</td>\n",
       "      <td>2.761940</td>\n",
       "    </tr>\n",
       "    <tr>\n",
       "      <th>853220</th>\n",
       "      <td>0</td>\n",
       "      <td>16.0</td>\n",
       "      <td>142.124496</td>\n",
       "      <td>-0.642108</td>\n",
       "      <td>-9.626239</td>\n",
       "      <td>-1.777237</td>\n",
       "      <td>-0.029558</td>\n",
       "      <td>-0.076531</td>\n",
       "      <td>0.045855</td>\n",
       "      <td>174.0</td>\n",
       "      <td>0.227891</td>\n",
       "    </tr>\n",
       "    <tr>\n",
       "      <th>833328</th>\n",
       "      <td>0</td>\n",
       "      <td>8.0</td>\n",
       "      <td>342.453766</td>\n",
       "      <td>-1.219467</td>\n",
       "      <td>-9.119461</td>\n",
       "      <td>-1.399210</td>\n",
       "      <td>0.004682</td>\n",
       "      <td>0.025333</td>\n",
       "      <td>0.050477</td>\n",
       "      <td>1396.0</td>\n",
       "      <td>18.803959</td>\n",
       "    </tr>\n",
       "    <tr>\n",
       "      <th>27526</th>\n",
       "      <td>0</td>\n",
       "      <td>16.0</td>\n",
       "      <td>238.402939</td>\n",
       "      <td>-0.462814</td>\n",
       "      <td>-9.436029</td>\n",
       "      <td>-1.591064</td>\n",
       "      <td>0.032511</td>\n",
       "      <td>0.009371</td>\n",
       "      <td>-0.010461</td>\n",
       "      <td>259.0</td>\n",
       "      <td>2.362042</td>\n",
       "    </tr>\n",
       "    <tr>\n",
       "      <th>344962</th>\n",
       "      <td>0</td>\n",
       "      <td>8.0</td>\n",
       "      <td>1.363404</td>\n",
       "      <td>-1.917352</td>\n",
       "      <td>-9.133069</td>\n",
       "      <td>-0.564648</td>\n",
       "      <td>0.135485</td>\n",
       "      <td>0.086545</td>\n",
       "      <td>-0.011729</td>\n",
       "      <td>1575.0</td>\n",
       "      <td>14.235041</td>\n",
       "    </tr>\n",
       "  </tbody>\n",
       "</table>\n",
       "</div>"
      ],
      "text/plain": [
       "        bookingID  Accuracy     Bearing  acceleration_x  acceleration_y  \\\n",
       "494610          0       8.0  316.671051       -1.678543       -9.668259   \n",
       "853220          0      16.0  142.124496       -0.642108       -9.626239   \n",
       "833328          0       8.0  342.453766       -1.219467       -9.119461   \n",
       "27526           0      16.0  238.402939       -0.462814       -9.436029   \n",
       "344962          0       8.0    1.363404       -1.917352       -9.133069   \n",
       "\n",
       "        acceleration_z    gyro_x    gyro_y    gyro_z  second      Speed  \n",
       "494610       -1.181485  0.005701 -0.262353 -0.050388   948.0   2.761940  \n",
       "853220       -1.777237 -0.029558 -0.076531  0.045855   174.0   0.227891  \n",
       "833328       -1.399210  0.004682  0.025333  0.050477  1396.0  18.803959  \n",
       "27526        -1.591064  0.032511  0.009371 -0.010461   259.0   2.362042  \n",
       "344962       -0.564648  0.135485  0.086545 -0.011729  1575.0  14.235041  "
      ]
     },
     "execution_count": 5,
     "metadata": {},
     "output_type": "execute_result"
    }
   ],
   "source": [
    "feature_df.sort_values(by='bookingID').head()"
   ]
  },
  {
   "cell_type": "code",
   "execution_count": 10,
   "metadata": {},
   "outputs": [],
   "source": [
    "# derive acceleration from speed\n",
    "feature_df = feature_df.fillna(0)\n",
    "feature_df['acceleration'] = (feature_df['Speed']-feature_df['Speed'].shift())/\\\n",
    "(feature_df['second']-feature_df['second'].shift())\n",
    "feature_df = feature_df.fillna(0)\n",
    "feature_df['acceleration']  = feature_df['acceleration'].replace([np.inf, -np.inf], 0)"
   ]
  },
  {
   "cell_type": "code",
   "execution_count": 11,
   "metadata": {},
   "outputs": [
    {
     "data": {
      "text/plain": [
       "0"
      ]
     },
     "execution_count": 11,
     "metadata": {},
     "output_type": "execute_result"
    }
   ],
   "source": [
    "## check total NaN\n",
    "feature_df.isnull().T.any().T.sum()"
   ]
  },
  {
   "cell_type": "code",
   "execution_count": 12,
   "metadata": {},
   "outputs": [
    {
     "data": {
      "application/vnd.jupyter.widget-view+json": {
       "model_id": "e8f367e6eec248aebf9abdb28a9c75f2",
       "version_major": 2,
       "version_minor": 0
      },
      "text/plain": [
       "HBox(children=(IntProgress(value=0, max=9), HTML(value='')))"
      ]
     },
     "metadata": {},
     "output_type": "display_data"
    },
    {
     "name": "stdout",
     "output_type": "stream",
     "text": [
      "CPU times: user 21.7 s, sys: 28.5 s, total: 50.2 s\n",
      "Wall time: 50.2 s\n"
     ]
    }
   ],
   "source": [
    "%%time\n",
    "# remove outlier rows\n",
    "cols = ['Bearing','acceleration_x', 'acceleration_y', 'acceleration_z','gyro_x', 'gyro_y', 'gyro_z', 'acceleration', 'Speed']\n",
    "pbar = tqdm(total=len(cols))\n",
    "for i in cols:\n",
    "    feature_df['z_'+i] = np.abs(stats.zscore(feature_df[i]))\n",
    "    feature_df = feature_df[feature_df['z_'+i] <= 3]\n",
    "    feature_df = feature_df.drop(columns=['z_'+i])\n",
    "    pbar.update(1)"
   ]
  },
  {
   "cell_type": "code",
   "execution_count": 13,
   "metadata": {},
   "outputs": [
    {
     "data": {
      "application/vnd.jupyter.widget-view+json": {
       "model_id": "08c9d704ac1a47d18671e2ed250bb2aa",
       "version_major": 2,
       "version_minor": 0
      },
      "text/plain": [
       "HBox(children=(IntProgress(value=0, max=9), HTML(value='')))"
      ]
     },
     "metadata": {},
     "output_type": "display_data"
    }
   ],
   "source": [
    "# remove zero values\n",
    "pbar = tqdm(total=len(cols))\n",
    "for i in cols:\n",
    "    feature_df = feature_df[feature_df[i] != 0 ]\n",
    "    pbar.update(1)"
   ]
  },
  {
   "cell_type": "code",
   "execution_count": 14,
   "metadata": {},
   "outputs": [
    {
     "data": {
      "text/plain": [
       "0"
      ]
     },
     "execution_count": 14,
     "metadata": {},
     "output_type": "execute_result"
    }
   ],
   "source": [
    "# scale the data\n",
    "scaler_filename = \"models/min_max_scaler.save\"\n",
    "min_max_scaler = joblib.load(scaler_filename) \n",
    "x_scaled = min_max_scaler.transform(feature_df.iloc[:,1:])\n",
    "cols = feature_df.iloc[:,1:].columns\n",
    "feature_df.loc[:,cols] = x_scaled\n",
    "del x_scaled\n",
    "gc.collect()"
   ]
  },
  {
   "cell_type": "code",
   "execution_count": 15,
   "metadata": {},
   "outputs": [
    {
     "data": {
      "text/plain": [
       "12189032"
      ]
     },
     "execution_count": 15,
     "metadata": {},
     "output_type": "execute_result"
    }
   ],
   "source": [
    "# 12189032\n",
    "len(feature_df)"
   ]
  },
  {
   "cell_type": "code",
   "execution_count": 16,
   "metadata": {},
   "outputs": [],
   "source": [
    "d = feature_df.iloc[:,1:].describe()"
   ]
  },
  {
   "cell_type": "code",
   "execution_count": 17,
   "metadata": {},
   "outputs": [
    {
     "data": {
      "text/html": [
       "<div>\n",
       "<style scoped>\n",
       "    .dataframe tbody tr th:only-of-type {\n",
       "        vertical-align: middle;\n",
       "    }\n",
       "\n",
       "    .dataframe tbody tr th {\n",
       "        vertical-align: top;\n",
       "    }\n",
       "\n",
       "    .dataframe thead th {\n",
       "        text-align: right;\n",
       "    }\n",
       "</style>\n",
       "<table border=\"1\" class=\"dataframe\">\n",
       "  <thead>\n",
       "    <tr style=\"text-align: right;\">\n",
       "      <th></th>\n",
       "      <th>Accuracy</th>\n",
       "      <th>Bearing</th>\n",
       "      <th>acceleration_x</th>\n",
       "      <th>acceleration_y</th>\n",
       "      <th>acceleration_z</th>\n",
       "      <th>gyro_x</th>\n",
       "      <th>gyro_y</th>\n",
       "      <th>gyro_z</th>\n",
       "      <th>second</th>\n",
       "      <th>Speed</th>\n",
       "      <th>acceleration</th>\n",
       "    </tr>\n",
       "  </thead>\n",
       "  <tbody>\n",
       "    <tr>\n",
       "      <th>count</th>\n",
       "      <td>1.218903e+07</td>\n",
       "      <td>1.218903e+07</td>\n",
       "      <td>1.218903e+07</td>\n",
       "      <td>1.218903e+07</td>\n",
       "      <td>1.218903e+07</td>\n",
       "      <td>1.218903e+07</td>\n",
       "      <td>1.218903e+07</td>\n",
       "      <td>1.218903e+07</td>\n",
       "      <td>1.218903e+07</td>\n",
       "      <td>1.218903e+07</td>\n",
       "      <td>1.218903e+07</td>\n",
       "    </tr>\n",
       "    <tr>\n",
       "      <th>mean</th>\n",
       "      <td>1.868821e-03</td>\n",
       "      <td>5.002001e-01</td>\n",
       "      <td>4.980047e-01</td>\n",
       "      <td>4.836508e-01</td>\n",
       "      <td>4.931750e-01</td>\n",
       "      <td>4.996080e-01</td>\n",
       "      <td>5.009444e-01</td>\n",
       "      <td>5.003409e-01</td>\n",
       "      <td>7.540733e-02</td>\n",
       "      <td>3.634180e-01</td>\n",
       "      <td>5.000743e-01</td>\n",
       "    </tr>\n",
       "    <tr>\n",
       "      <th>std</th>\n",
       "      <td>1.472615e-02</td>\n",
       "      <td>2.810122e-01</td>\n",
       "      <td>1.249095e-01</td>\n",
       "      <td>1.773207e-01</td>\n",
       "      <td>1.559571e-01</td>\n",
       "      <td>1.098413e-01</td>\n",
       "      <td>6.941128e-02</td>\n",
       "      <td>1.233218e-01</td>\n",
       "      <td>5.552369e-02</td>\n",
       "      <td>2.177102e-01</td>\n",
       "      <td>4.365173e-02</td>\n",
       "    </tr>\n",
       "    <tr>\n",
       "      <th>min</th>\n",
       "      <td>0.000000e+00</td>\n",
       "      <td>0.000000e+00</td>\n",
       "      <td>0.000000e+00</td>\n",
       "      <td>0.000000e+00</td>\n",
       "      <td>0.000000e+00</td>\n",
       "      <td>0.000000e+00</td>\n",
       "      <td>0.000000e+00</td>\n",
       "      <td>0.000000e+00</td>\n",
       "      <td>0.000000e+00</td>\n",
       "      <td>0.000000e+00</td>\n",
       "      <td>0.000000e+00</td>\n",
       "    </tr>\n",
       "    <tr>\n",
       "      <th>25%</th>\n",
       "      <td>5.196091e-04</td>\n",
       "      <td>2.583335e-01</td>\n",
       "      <td>4.288701e-01</td>\n",
       "      <td>2.311074e-01</td>\n",
       "      <td>3.973193e-01</td>\n",
       "      <td>4.592295e-01</td>\n",
       "      <td>4.786042e-01</td>\n",
       "      <td>4.493230e-01</td>\n",
       "      <td>3.153153e-02</td>\n",
       "      <td>1.676628e-01</td>\n",
       "      <td>4.943473e-01</td>\n",
       "    </tr>\n",
       "    <tr>\n",
       "      <th>50%</th>\n",
       "      <td>7.010598e-04</td>\n",
       "      <td>4.972228e-01</td>\n",
       "      <td>4.977782e-01</td>\n",
       "      <td>5.936837e-01</td>\n",
       "      <td>4.871374e-01</td>\n",
       "      <td>5.004978e-01</td>\n",
       "      <td>5.012272e-01</td>\n",
       "      <td>5.006580e-01</td>\n",
       "      <td>6.659362e-02</td>\n",
       "      <td>3.454537e-01</td>\n",
       "      <td>4.998480e-01</td>\n",
       "    </tr>\n",
       "    <tr>\n",
       "      <th>75%</th>\n",
       "      <td>1.360881e-03</td>\n",
       "      <td>7.444454e-01</td>\n",
       "      <td>5.678481e-01</td>\n",
       "      <td>6.091605e-01</td>\n",
       "      <td>5.879140e-01</td>\n",
       "      <td>5.399913e-01</td>\n",
       "      <td>5.242055e-01</td>\n",
       "      <td>5.515520e-01</td>\n",
       "      <td>1.081081e-01</td>\n",
       "      <td>5.372653e-01</td>\n",
       "      <td>5.059982e-01</td>\n",
       "    </tr>\n",
       "    <tr>\n",
       "      <th>max</th>\n",
       "      <td>1.000000e+00</td>\n",
       "      <td>1.000000e+00</td>\n",
       "      <td>1.000000e+00</td>\n",
       "      <td>1.000000e+00</td>\n",
       "      <td>1.000000e+00</td>\n",
       "      <td>1.000000e+00</td>\n",
       "      <td>1.000000e+00</td>\n",
       "      <td>1.000000e+00</td>\n",
       "      <td>1.000000e+00</td>\n",
       "      <td>1.000000e+00</td>\n",
       "      <td>1.000000e+00</td>\n",
       "    </tr>\n",
       "  </tbody>\n",
       "</table>\n",
       "</div>"
      ],
      "text/plain": [
       "           Accuracy       Bearing  acceleration_x  acceleration_y  \\\n",
       "count  1.218903e+07  1.218903e+07    1.218903e+07    1.218903e+07   \n",
       "mean   1.868821e-03  5.002001e-01    4.980047e-01    4.836508e-01   \n",
       "std    1.472615e-02  2.810122e-01    1.249095e-01    1.773207e-01   \n",
       "min    0.000000e+00  0.000000e+00    0.000000e+00    0.000000e+00   \n",
       "25%    5.196091e-04  2.583335e-01    4.288701e-01    2.311074e-01   \n",
       "50%    7.010598e-04  4.972228e-01    4.977782e-01    5.936837e-01   \n",
       "75%    1.360881e-03  7.444454e-01    5.678481e-01    6.091605e-01   \n",
       "max    1.000000e+00  1.000000e+00    1.000000e+00    1.000000e+00   \n",
       "\n",
       "       acceleration_z        gyro_x        gyro_y        gyro_z        second  \\\n",
       "count    1.218903e+07  1.218903e+07  1.218903e+07  1.218903e+07  1.218903e+07   \n",
       "mean     4.931750e-01  4.996080e-01  5.009444e-01  5.003409e-01  7.540733e-02   \n",
       "std      1.559571e-01  1.098413e-01  6.941128e-02  1.233218e-01  5.552369e-02   \n",
       "min      0.000000e+00  0.000000e+00  0.000000e+00  0.000000e+00  0.000000e+00   \n",
       "25%      3.973193e-01  4.592295e-01  4.786042e-01  4.493230e-01  3.153153e-02   \n",
       "50%      4.871374e-01  5.004978e-01  5.012272e-01  5.006580e-01  6.659362e-02   \n",
       "75%      5.879140e-01  5.399913e-01  5.242055e-01  5.515520e-01  1.081081e-01   \n",
       "max      1.000000e+00  1.000000e+00  1.000000e+00  1.000000e+00  1.000000e+00   \n",
       "\n",
       "              Speed  acceleration  \n",
       "count  1.218903e+07  1.218903e+07  \n",
       "mean   3.634180e-01  5.000743e-01  \n",
       "std    2.177102e-01  4.365173e-02  \n",
       "min    0.000000e+00  0.000000e+00  \n",
       "25%    1.676628e-01  4.943473e-01  \n",
       "50%    3.454537e-01  4.998480e-01  \n",
       "75%    5.372653e-01  5.059982e-01  \n",
       "max    1.000000e+00  1.000000e+00  "
      ]
     },
     "execution_count": 17,
     "metadata": {},
     "output_type": "execute_result"
    }
   ],
   "source": [
    "d"
   ]
  },
  {
   "cell_type": "code",
   "execution_count": 18,
   "metadata": {},
   "outputs": [],
   "source": [
    "# padding value\n",
    "pad_value = 2.0"
   ]
  },
  {
   "cell_type": "code",
   "execution_count": 19,
   "metadata": {},
   "outputs": [],
   "source": [
    "# checking if any of column having values equal or less than pad_value\n",
    "for col in d.columns:\n",
    "    if d[col]['min'] >= pad_value:\n",
    "        print(col, d[col]['min'])"
   ]
  },
  {
   "cell_type": "code",
   "execution_count": 21,
   "metadata": {},
   "outputs": [
    {
     "data": {
      "application/vnd.jupyter.widget-view+json": {
       "model_id": "faff849b1d8c45bbad612b603a8af9b2",
       "version_major": 2,
       "version_minor": 0
      },
      "text/plain": [
       "HBox(children=(IntProgress(value=0, max=2), HTML(value='')))"
      ]
     },
     "metadata": {},
     "output_type": "display_data"
    },
    {
     "data": {
      "text/html": [
       "<div>\n",
       "<style scoped>\n",
       "    .dataframe tbody tr th:only-of-type {\n",
       "        vertical-align: middle;\n",
       "    }\n",
       "\n",
       "    .dataframe tbody tr th {\n",
       "        vertical-align: top;\n",
       "    }\n",
       "\n",
       "    .dataframe thead th {\n",
       "        text-align: right;\n",
       "    }\n",
       "</style>\n",
       "<table border=\"1\" class=\"dataframe\">\n",
       "  <thead>\n",
       "    <tr style=\"text-align: right;\">\n",
       "      <th></th>\n",
       "      <th>bookingID</th>\n",
       "      <th>label</th>\n",
       "    </tr>\n",
       "  </thead>\n",
       "  <tbody>\n",
       "    <tr>\n",
       "      <th>0</th>\n",
       "      <td>111669149733</td>\n",
       "      <td>0</td>\n",
       "    </tr>\n",
       "    <tr>\n",
       "      <th>1</th>\n",
       "      <td>335007449205</td>\n",
       "      <td>1</td>\n",
       "    </tr>\n",
       "    <tr>\n",
       "      <th>2</th>\n",
       "      <td>171798691856</td>\n",
       "      <td>0</td>\n",
       "    </tr>\n",
       "    <tr>\n",
       "      <th>3</th>\n",
       "      <td>1520418422900</td>\n",
       "      <td>0</td>\n",
       "    </tr>\n",
       "    <tr>\n",
       "      <th>4</th>\n",
       "      <td>798863917116</td>\n",
       "      <td>0</td>\n",
       "    </tr>\n",
       "  </tbody>\n",
       "</table>\n",
       "</div>"
      ],
      "text/plain": [
       "       bookingID  label\n",
       "0   111669149733      0\n",
       "1   335007449205      1\n",
       "2   171798691856      0\n",
       "3  1520418422900      0\n",
       "4   798863917116      0"
      ]
     },
     "execution_count": 21,
     "metadata": {},
     "output_type": "execute_result"
    }
   ],
   "source": [
    "label_df = read_multiple_csv(path_to_label_dir)\n",
    "label_df.head()"
   ]
  },
  {
   "cell_type": "code",
   "execution_count": 22,
   "metadata": {},
   "outputs": [
    {
     "name": "stdout",
     "output_type": "stream",
     "text": [
      "20018\n",
      "19982\n"
     ]
    }
   ],
   "source": [
    "print(len(label_df))\n",
    "# we can't keep both due to label contains both 0 and 1\n",
    "label_df = label_df.drop_duplicates(subset=['bookingID'], keep=False)\n",
    "print(len(label_df))"
   ]
  },
  {
   "cell_type": "code",
   "execution_count": 17,
   "metadata": {},
   "outputs": [
    {
     "data": {
      "text/html": [
       "<div>\n",
       "<style scoped>\n",
       "    .dataframe tbody tr th:only-of-type {\n",
       "        vertical-align: middle;\n",
       "    }\n",
       "\n",
       "    .dataframe tbody tr th {\n",
       "        vertical-align: top;\n",
       "    }\n",
       "\n",
       "    .dataframe thead th {\n",
       "        text-align: right;\n",
       "    }\n",
       "</style>\n",
       "<table border=\"1\" class=\"dataframe\">\n",
       "  <thead>\n",
       "    <tr style=\"text-align: right;\">\n",
       "      <th></th>\n",
       "      <th>bookingID</th>\n",
       "      <th>count</th>\n",
       "      <th>label</th>\n",
       "    </tr>\n",
       "  </thead>\n",
       "  <tbody>\n",
       "    <tr>\n",
       "      <th>0</th>\n",
       "      <td>1374389534819</td>\n",
       "      <td>4361</td>\n",
       "      <td>1.0</td>\n",
       "    </tr>\n",
       "    <tr>\n",
       "      <th>1</th>\n",
       "      <td>1108101562533</td>\n",
       "      <td>3384</td>\n",
       "      <td>1.0</td>\n",
       "    </tr>\n",
       "    <tr>\n",
       "      <th>2</th>\n",
       "      <td>1365799600208</td>\n",
       "      <td>3014</td>\n",
       "      <td>1.0</td>\n",
       "    </tr>\n",
       "    <tr>\n",
       "      <th>3</th>\n",
       "      <td>412316860458</td>\n",
       "      <td>2925</td>\n",
       "      <td>1.0</td>\n",
       "    </tr>\n",
       "    <tr>\n",
       "      <th>4</th>\n",
       "      <td>283467841668</td>\n",
       "      <td>2831</td>\n",
       "      <td>1.0</td>\n",
       "    </tr>\n",
       "  </tbody>\n",
       "</table>\n",
       "</div>"
      ],
      "text/plain": [
       "       bookingID  count  label\n",
       "0  1374389534819   4361    1.0\n",
       "1  1108101562533   3384    1.0\n",
       "2  1365799600208   3014    1.0\n",
       "3   412316860458   2925    1.0\n",
       "4   283467841668   2831    1.0"
      ]
     },
     "execution_count": 17,
     "metadata": {},
     "output_type": "execute_result"
    }
   ],
   "source": [
    "label_df = feature_df.groupby('bookingID',as_index=False)\\\n",
    ".agg({'Accuracy':'count'})\\\n",
    ".sort_values(by='Accuracy', ascending=False)\\\n",
    ".rename(columns={'Accuracy':'count'})\\\n",
    ".merge(label_df, on='bookingID', how='left')\n",
    "\n",
    "label_df.head()"
   ]
  },
  {
   "cell_type": "code",
   "execution_count": 18,
   "metadata": {},
   "outputs": [],
   "source": [
    "null_booking_ids = label_df[label_df['label'].isnull()]['bookingID']"
   ]
  },
  {
   "cell_type": "code",
   "execution_count": 21,
   "metadata": {},
   "outputs": [
    {
     "data": {
      "text/plain": [
       "18"
      ]
     },
     "execution_count": 21,
     "metadata": {},
     "output_type": "execute_result"
    }
   ],
   "source": [
    "len(null_booking_ids)"
   ]
  },
  {
   "cell_type": "code",
   "execution_count": 22,
   "metadata": {},
   "outputs": [],
   "source": [
    "feature_df = feature_df[~feature_df['bookingID'].isin(null_booking_ids)]"
   ]
  },
  {
   "cell_type": "code",
   "execution_count": 23,
   "metadata": {},
   "outputs": [
    {
     "name": "stdout",
     "output_type": "stream",
     "text": [
      "Maximum row foreach bookingID 4361\n"
     ]
    }
   ],
   "source": [
    "max_row = label_df['count'].max()\n",
    "print(\"Maximum row foreach bookingID\",max_row)"
   ]
  },
  {
   "cell_type": "code",
   "execution_count": 24,
   "metadata": {},
   "outputs": [],
   "source": [
    "label_df = label_df.dropna().sort_values(by='bookingID')"
   ]
  },
  {
   "cell_type": "code",
   "execution_count": 25,
   "metadata": {},
   "outputs": [
    {
     "name": "stdout",
     "output_type": "stream",
     "text": [
      "Total booking ID 19863\n",
      "dimension 11\n",
      "(19863, 1000, 11)\n"
     ]
    }
   ],
   "source": [
    "# create padding\n",
    "booking_ids = label_df['bookingID'].values\n",
    "N = len(booking_ids)\n",
    "print(\"Total booking ID\",N)\n",
    "dimension = len(feature_df.columns)-1\n",
    "print(\"dimension\", dimension)\n",
    "max_seq_len = 1000\n",
    "Xpad = np.full((N,max_seq_len, dimension), fill_value=pad_value)\n",
    "print(Xpad.shape)"
   ]
  },
  {
   "cell_type": "code",
   "execution_count": 26,
   "metadata": {},
   "outputs": [
    {
     "data": {
      "text/plain": [
       "array([            0,             1,             2, ..., 1709396983966,\n",
       "       1709396983971, 1709396983975])"
      ]
     },
     "execution_count": 26,
     "metadata": {},
     "output_type": "execute_result"
    }
   ],
   "source": [
    "booking_ids"
   ]
  },
  {
   "cell_type": "code",
   "execution_count": 27,
   "metadata": {},
   "outputs": [
    {
     "data": {
      "application/vnd.jupyter.widget-view+json": {
       "model_id": "21655830ec4f4aa5aac136c808d50981",
       "version_major": 2,
       "version_minor": 0
      },
      "text/plain": [
       "HBox(children=(IntProgress(value=0, max=19863), HTML(value='')))"
      ]
     },
     "metadata": {},
     "output_type": "display_data"
    },
    {
     "name": "stdout",
     "output_type": "stream",
     "text": [
      "CPU times: user 39min 30s, sys: 6.48 s, total: 39min 37s\n",
      "Wall time: 39min 24s\n"
     ]
    }
   ],
   "source": [
    "%%time\n",
    "## TODO looking for faster way to perform this operation\n",
    "i = 0\n",
    "count = {'truncate':0, 'pad':0}\n",
    "pbar = tqdm(total=N)\n",
    "for booking_id in booking_ids:\n",
    "    matricData = feature_df[feature_df['bookingID'] == booking_id].iloc[:,1:].values\n",
    "    #print(matricData.shape)\n",
    "    if matricData.shape[0] <= 0 :\n",
    "      print(booking_id, i)\n",
    "    if matricData.shape[0] >= max_seq_len:\n",
    "      # truncate\n",
    "      # take at center\n",
    "      center = int(matricData.shape[0] / 2)\n",
    "      begin = center - int(max_seq_len/2) #including\n",
    "      end = center + int(max_seq_len/2) #excluding\n",
    "      Xpad[i, :, :] = matricData[begin:end, :]\n",
    "      count['truncate'] += 1\n",
    "    else:\n",
    "      # padding\n",
    "      #print(matricData.shape)\n",
    "      Xpad[i, :matricData.shape[0], :] = matricData\n",
    "      count['pad'] += 1\n",
    "    i += 1\n",
    "    del matricData\n",
    "    gc.collect()\n",
    "    pbar.update(1)"
   ]
  },
  {
   "cell_type": "code",
   "execution_count": 28,
   "metadata": {},
   "outputs": [
    {
     "data": {
      "text/plain": [
       "{'pad': 16717, 'truncate': 3146}"
      ]
     },
     "execution_count": 28,
     "metadata": {},
     "output_type": "execute_result"
    }
   ],
   "source": [
    "count"
   ]
  },
  {
   "cell_type": "code",
   "execution_count": 29,
   "metadata": {},
   "outputs": [
    {
     "data": {
      "text/plain": [
       "array([[5.36104582e-04, 1.49999939e-01, 5.26561009e-01, ...,\n",
       "        1.10177745e-01, 6.30369634e-01, 5.08985616e-01],\n",
       "       [5.36104582e-04, 7.49998060e-02, 4.83751880e-01, ...,\n",
       "        7.93766740e-02, 3.72639238e-01, 4.89508203e-01],\n",
       "       [5.36104582e-04, 6.13889647e-01, 5.97610307e-01, ...,\n",
       "        4.55320185e-02, 2.01356957e-01, 4.95956972e-01],\n",
       "       ...,\n",
       "       [2.00000000e+00, 2.00000000e+00, 2.00000000e+00, ...,\n",
       "        2.00000000e+00, 2.00000000e+00, 2.00000000e+00],\n",
       "       [2.00000000e+00, 2.00000000e+00, 2.00000000e+00, ...,\n",
       "        2.00000000e+00, 2.00000000e+00, 2.00000000e+00],\n",
       "       [2.00000000e+00, 2.00000000e+00, 2.00000000e+00, ...,\n",
       "        2.00000000e+00, 2.00000000e+00, 2.00000000e+00]])"
      ]
     },
     "execution_count": 29,
     "metadata": {},
     "output_type": "execute_result"
    }
   ],
   "source": [
    "Xpad[1]"
   ]
  },
  {
   "cell_type": "code",
   "execution_count": 30,
   "metadata": {},
   "outputs": [
    {
     "name": "stdout",
     "output_type": "stream",
     "text": [
      "CPU times: user 32.3 ms, sys: 2.12 s, total: 2.15 s\n",
      "Wall time: 15.5 s\n"
     ]
    }
   ],
   "source": [
    "%%time\n",
    "with h5py.File('data/Xpad.h5', 'w') as hf:\n",
    "    hf.create_dataset(\"Xpad\",  data=Xpad)"
   ]
  },
  {
   "cell_type": "code",
   "execution_count": 31,
   "metadata": {},
   "outputs": [
    {
     "name": "stdout",
     "output_type": "stream",
     "text": [
      "19863\n"
     ]
    }
   ],
   "source": [
    "print(len(label_df))"
   ]
  },
  {
   "cell_type": "code",
   "execution_count": 32,
   "metadata": {},
   "outputs": [],
   "source": [
    "label_df.to_parquet(\"data/bookingID.parquet\")"
   ]
  },
  {
   "cell_type": "code",
   "execution_count": null,
   "metadata": {},
   "outputs": [],
   "source": [
    "# read back\n",
    "with h5py.File('Xpad.h5', 'r') as hf:\n",
    "    data = hf['Xpad'][:]"
   ]
  },
  {
   "cell_type": "code",
   "execution_count": 22,
   "metadata": {},
   "outputs": [],
   "source": [
    "#np.save('Xpad.npy', Xpad)\n",
    "#np.save('booking_ids.npy', np.array(booking_ids))\n",
    "#new_num_arr = np.load('data.npy') # load"
   ]
  },
  {
   "cell_type": "code",
   "execution_count": 80,
   "metadata": {},
   "outputs": [
    {
     "data": {
      "text/plain": [
       "array([[    0,   383,     8],\n",
       "       [    1,   542,     8],\n",
       "       [    2,    70,     8],\n",
       "       ...,\n",
       "       [19875,   184,     8],\n",
       "       [19877,    64,     8],\n",
       "       [19880,   368,     8]])"
      ]
     },
     "execution_count": 80,
     "metadata": {},
     "output_type": "execute_result"
    }
   ],
   "source": [
    "np.argwhere(Xpad == 0)"
   ]
  },
  {
   "cell_type": "code",
   "execution_count": 79,
   "metadata": {},
   "outputs": [
    {
     "data": {
      "text/plain": [
       "array([], shape=(0, 3), dtype=int64)"
      ]
     },
     "execution_count": 79,
     "metadata": {},
     "output_type": "execute_result"
    }
   ],
   "source": [
    "# check for any NaN\n",
    "np.argwhere(np.isnan(Xpad))"
   ]
  },
  {
   "cell_type": "code",
   "execution_count": null,
   "metadata": {},
   "outputs": [],
   "source": []
  }
 ],
 "metadata": {
  "kernelspec": {
   "display_name": "Python 3",
   "language": "python",
   "name": "python3"
  },
  "language_info": {
   "codemirror_mode": {
    "name": "ipython",
    "version": 3
   },
   "file_extension": ".py",
   "mimetype": "text/x-python",
   "name": "python",
   "nbconvert_exporter": "python",
   "pygments_lexer": "ipython3",
   "version": "3.5.6"
  }
 },
 "nbformat": 4,
 "nbformat_minor": 2
}
