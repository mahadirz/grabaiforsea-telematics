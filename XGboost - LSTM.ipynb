{
 "cells": [
  {
   "cell_type": "code",
   "execution_count": 2,
   "metadata": {},
   "outputs": [
    {
     "name": "stderr",
     "output_type": "stream",
     "text": [
      "/usr/local/envs/py3env/lib/python3.5/site-packages/sklearn/cross_validation.py:41: DeprecationWarning: This module was deprecated in version 0.18 in favor of the model_selection module into which all the refactored classes and functions are moved. Also note that the interface of the new CV iterators are different from that of this module. This module will be removed in 0.20.\n",
      "  \"This module will be removed in 0.20.\", DeprecationWarning)\n"
     ]
    }
   ],
   "source": [
    "import numpy as np\n",
    "import pandas as pd\n",
    "from sklearn.model_selection import train_test_split\n",
    "from sklearn.metrics import mean_squared_error\n",
    "from operator import itemgetter\n",
    "import xgboost as xgb\n",
    "import random\n",
    "import time\n",
    "from sklearn.model_selection import GridSearchCV\n",
    "from sklearn.metrics import average_precision_score\n",
    "import matplotlib.pyplot as plt\n",
    "from numpy import genfromtxt\n",
    "import seaborn as sns\n",
    "from sklearn import preprocessing\n",
    "from sklearn.metrics import roc_curve, auc,recall_score,precision_score\n",
    "import datetime as dt"
   ]
  },
  {
   "cell_type": "code",
   "execution_count": 3,
   "metadata": {},
   "outputs": [],
   "source": [
    "def create_feature_map(features):\n",
    "    outfile = open('xgb.fmap', 'w')\n",
    "    for i, feat in enumerate(features):\n",
    "        outfile.write('{0}\\t{1}\\tq\\n'.format(i, feat))\n",
    "    outfile.close()"
   ]
  },
  {
   "cell_type": "code",
   "execution_count": 4,
   "metadata": {},
   "outputs": [],
   "source": [
    "def get_importance(gbm, features):\n",
    "    create_feature_map(features)\n",
    "    importance = gbm.get_fscore(fmap='xgb.fmap')\n",
    "    importance = sorted(importance.items(), key=itemgetter(1), reverse=True)\n",
    "    return importance"
   ]
  },
  {
   "cell_type": "code",
   "execution_count": 5,
   "metadata": {},
   "outputs": [],
   "source": [
    "def get_features(train, test):\n",
    "    trainval = list(train.columns.values)\n",
    "    output = trainval\n",
    "    return sorted(output)"
   ]
  },
  {
   "cell_type": "code",
   "execution_count": 28,
   "metadata": {},
   "outputs": [],
   "source": [
    "def run_single(X_train, X_test, y_train, y_test, random_state=0):\n",
    "    eta = 0.1\n",
    "    max_depth= 6 \n",
    "    subsample = 1\n",
    "    colsample_bytree = 1\n",
    "    min_chil_weight=1\n",
    "    start_time = time.time()\n",
    "    print('XGBoost params. ETA: {}, MAX_DEPTH: {}, SUBSAMPLE: {}, COLSAMPLE_BY_TREE: {}'.format(eta, max_depth, subsample, colsample_bytree))\n",
    "    params = {\n",
    "        \"objective\": \"binary:logistic\",\n",
    "        \"booster\" : \"gbtree\",\n",
    "        \"eval_metric\": \"auc\",\n",
    "        \"eta\": eta,\n",
    "        \"tree_method\": 'exact',\n",
    "        \"max_depth\": max_depth,\n",
    "        \"subsample\": subsample,\n",
    "        \"colsample_bytree\": colsample_bytree,\n",
    "        \"silent\": 1,\n",
    "        \"min_chil_weight\":min_chil_weight,\n",
    "        \"seed\": random_state,\n",
    "        #\"num_class\" : 22,\n",
    "    }\n",
    "    num_boost_round = 500\n",
    "    early_stopping_rounds = 100\n",
    "    test_size = 0.1\n",
    "    \n",
    "    X_train, X_valid, y_train, y_valid = train_test_split(X_train, y_train, test_size=test_size, random_state=random_state)\n",
    "    print('Length train:', len(X_train.index))\n",
    "    print('Length valid:', len(X_valid.index))\n",
    "    dtrain = xgb.DMatrix(X_train, y_train, missing=-99)\n",
    "    dvalid = xgb.DMatrix(X_valid, y_valid, missing =-99)\n",
    "\n",
    "    watchlist = [(dtrain, 'train'), (dvalid, 'eval')]\n",
    "    gbm = xgb.train(params, dtrain, num_boost_round, evals=watchlist, early_stopping_rounds=early_stopping_rounds, verbose_eval=True)\n",
    "\n",
    "    print(\"Validating...\")\n",
    "    check = gbm.predict(xgb.DMatrix(X_valid), ntree_limit=gbm.best_iteration+1)\n",
    "    \n",
    "    #area under the precision-recall curve\n",
    "    score = average_precision_score(y_valid, check)\n",
    "    print('area under the precision-recall curve: {:.6f}'.format(score))\n",
    "\n",
    "    \n",
    "    check2=check.round()\n",
    "    score = precision_score(y_valid, check2)\n",
    "    print('precision score: {:.6f}'.format(score))\n",
    "\n",
    "    score = recall_score(y_valid, check2)\n",
    "    print('recall score: {:.6f}'.format(score))\n",
    "    \n",
    "    imp = get_importance(gbm, features)\n",
    "    print('Importance array: ', imp)\n",
    "\n",
    "    print(\"Predict test set... \")\n",
    "    test_prediction = gbm.predict(xgb.DMatrix(X_test,missing = -99), ntree_limit=gbm.best_iteration+1)\n",
    "    score = average_precision_score(y_test, test_prediction)\n",
    "\n",
    "    print('area under the precision-recall curve test set: {:.6f}'.format(score))\n",
    "    \n",
    "    ############################################ ROC Curve\n",
    "    \n",
    "\n",
    " \n",
    "    # Compute micro-average ROC curve and ROC area\n",
    "    fpr, tpr, _ = roc_curve(y_valid, check)\n",
    "    roc_auc = auc(fpr, tpr)\n",
    "    #xgb.plot_importance(gbm)\n",
    "    #plt.show()\n",
    "    plt.figure()\n",
    "    lw = 2\n",
    "    plt.plot(fpr, tpr, color='darkorange',\n",
    "             lw=lw, label='ROC curve (area = %0.2f)' % roc_auc)\n",
    "    plt.plot([0, 1], [0, 1], color='navy', lw=lw, linestyle='--')\n",
    "    plt.xlim([-0.02, 1.0])\n",
    "    plt.ylim([0.0, 1.05])\n",
    "    plt.xlabel('False Positive Rate')\n",
    "    plt.ylabel('True Positive Rate')\n",
    "    plt.title('ROC curve')\n",
    "    plt.legend(loc=\"lower right\")\n",
    "    plt.show()\n",
    "    ##################################################\n",
    "    \n",
    "    print('Training time: {} minutes'.format(round((time.time() - start_time)/60, 2)))\n",
    "    # gbm.best_iteration+1\n",
    "    return test_prediction, imp, gbm\n"
   ]
  },
  {
   "cell_type": "code",
   "execution_count": 7,
   "metadata": {},
   "outputs": [],
   "source": [
    "df_label = pd.read_parquet(\"data/bookingID.parquet\")"
   ]
  },
  {
   "cell_type": "code",
   "execution_count": 9,
   "metadata": {},
   "outputs": [],
   "source": [
    "df_feature = pd.read_parquet(\"data/features.parquet\")"
   ]
  },
  {
   "cell_type": "code",
   "execution_count": 11,
   "metadata": {},
   "outputs": [
    {
     "name": "stdout",
     "output_type": "stream",
     "text": [
      "(19863, 3)\n",
      "(19863, 100)\n"
     ]
    }
   ],
   "source": [
    "# Inspect label and feature shape\n",
    "print(df_label.shape)\n",
    "print(df_feature.shape)\n",
    "assert df_label.shape[0] == df_feature.shape[0]"
   ]
  },
  {
   "cell_type": "code",
   "execution_count": 14,
   "metadata": {},
   "outputs": [],
   "source": [
    "X = df_feature"
   ]
  },
  {
   "cell_type": "code",
   "execution_count": 13,
   "metadata": {},
   "outputs": [],
   "source": [
    "# take only label 0 and 1\n",
    "y = df_label['label'].values"
   ]
  },
  {
   "cell_type": "code",
   "execution_count": 15,
   "metadata": {},
   "outputs": [],
   "source": [
    "# split X and y into train and test\n",
    "X_train, X_test, y_train, y_test = train_test_split(X, y, test_size=0.2)"
   ]
  },
  {
   "cell_type": "code",
   "execution_count": 16,
   "metadata": {},
   "outputs": [
    {
     "data": {
      "text/html": [
       "<div>\n",
       "<style scoped>\n",
       "    .dataframe tbody tr th:only-of-type {\n",
       "        vertical-align: middle;\n",
       "    }\n",
       "\n",
       "    .dataframe tbody tr th {\n",
       "        vertical-align: top;\n",
       "    }\n",
       "\n",
       "    .dataframe thead th {\n",
       "        text-align: right;\n",
       "    }\n",
       "</style>\n",
       "<table border=\"1\" class=\"dataframe\">\n",
       "  <thead>\n",
       "    <tr style=\"text-align: right;\">\n",
       "      <th></th>\n",
       "      <th>y</th>\n",
       "      <th>count</th>\n",
       "    </tr>\n",
       "  </thead>\n",
       "  <tbody>\n",
       "    <tr>\n",
       "      <th>0</th>\n",
       "      <td>0.0</td>\n",
       "      <td>11908</td>\n",
       "    </tr>\n",
       "    <tr>\n",
       "      <th>1</th>\n",
       "      <td>1.0</td>\n",
       "      <td>3982</td>\n",
       "    </tr>\n",
       "  </tbody>\n",
       "</table>\n",
       "</div>"
      ],
      "text/plain": [
       "     y  count\n",
       "0  0.0  11908\n",
       "1  1.0   3982"
      ]
     },
     "execution_count": 16,
     "metadata": {},
     "output_type": "execute_result"
    }
   ],
   "source": [
    "# inspect class imbalance\n",
    "pd.DataFrame(y_train, columns=['y'])\\\n",
    ".reset_index()\\\n",
    ".groupby('y', as_index=False)\\\n",
    ".count()\\\n",
    ".rename(columns={'index':'count'})"
   ]
  },
  {
   "cell_type": "code",
   "execution_count": 17,
   "metadata": {},
   "outputs": [
    {
     "data": {
      "text/html": [
       "<div>\n",
       "<style scoped>\n",
       "    .dataframe tbody tr th:only-of-type {\n",
       "        vertical-align: middle;\n",
       "    }\n",
       "\n",
       "    .dataframe tbody tr th {\n",
       "        vertical-align: top;\n",
       "    }\n",
       "\n",
       "    .dataframe thead th {\n",
       "        text-align: right;\n",
       "    }\n",
       "</style>\n",
       "<table border=\"1\" class=\"dataframe\">\n",
       "  <thead>\n",
       "    <tr style=\"text-align: right;\">\n",
       "      <th></th>\n",
       "      <th>y</th>\n",
       "      <th>count</th>\n",
       "    </tr>\n",
       "  </thead>\n",
       "  <tbody>\n",
       "    <tr>\n",
       "      <th>0</th>\n",
       "      <td>0.0</td>\n",
       "      <td>3004</td>\n",
       "    </tr>\n",
       "    <tr>\n",
       "      <th>1</th>\n",
       "      <td>1.0</td>\n",
       "      <td>969</td>\n",
       "    </tr>\n",
       "  </tbody>\n",
       "</table>\n",
       "</div>"
      ],
      "text/plain": [
       "     y  count\n",
       "0  0.0   3004\n",
       "1  1.0    969"
      ]
     },
     "execution_count": 17,
     "metadata": {},
     "output_type": "execute_result"
    }
   ],
   "source": [
    "# inspect class imbalance\n",
    "pd.DataFrame(y_test, columns=['y'])\\\n",
    ".reset_index()\\\n",
    ".groupby('y', as_index=False)\\\n",
    ".count()\\\n",
    ".rename(columns={'index':'count'})"
   ]
  },
  {
   "cell_type": "code",
   "execution_count": 29,
   "metadata": {},
   "outputs": [
    {
     "name": "stdout",
     "output_type": "stream",
     "text": [
      "Start time:  2019-06-15 09:17:09.807217\n",
      "XGBoost params. ETA: 0.1, MAX_DEPTH: 6, SUBSAMPLE: 1, COLSAMPLE_BY_TREE: 1\n",
      "Length train: 14301\n",
      "Length valid: 1589\n",
      "[0]\ttrain-auc:0.639865\teval-auc:0.624656\n",
      "Multiple eval metrics have been passed: 'eval-auc' will be used for early stopping.\n",
      "\n",
      "Will train until eval-auc hasn't improved in 100 rounds.\n",
      "[1]\ttrain-auc:0.65777\teval-auc:0.626878\n",
      "[2]\ttrain-auc:0.680296\teval-auc:0.638612\n",
      "[3]\ttrain-auc:0.688243\teval-auc:0.643414\n",
      "[4]\ttrain-auc:0.69238\teval-auc:0.641173\n",
      "[5]\ttrain-auc:0.693871\teval-auc:0.643079\n",
      "[6]\ttrain-auc:0.712885\teval-auc:0.643903\n",
      "[7]\ttrain-auc:0.724283\teval-auc:0.647801\n",
      "[8]\ttrain-auc:0.729118\teval-auc:0.646106\n",
      "[9]\ttrain-auc:0.742772\teval-auc:0.64659\n",
      "[10]\ttrain-auc:0.747004\teval-auc:0.644039\n",
      "[11]\ttrain-auc:0.751632\teval-auc:0.644718\n",
      "[12]\ttrain-auc:0.758176\teval-auc:0.65075\n",
      "[13]\ttrain-auc:0.771305\teval-auc:0.653253\n",
      "[14]\ttrain-auc:0.779048\teval-auc:0.657653\n",
      "[15]\ttrain-auc:0.783402\teval-auc:0.657101\n",
      "[16]\ttrain-auc:0.789279\teval-auc:0.653891\n",
      "[17]\ttrain-auc:0.792536\teval-auc:0.657333\n",
      "[18]\ttrain-auc:0.797599\teval-auc:0.658935\n",
      "[19]\ttrain-auc:0.803708\teval-auc:0.656648\n",
      "[20]\ttrain-auc:0.808967\teval-auc:0.655581\n",
      "[21]\ttrain-auc:0.815566\teval-auc:0.656422\n",
      "[22]\ttrain-auc:0.818729\teval-auc:0.656406\n",
      "[23]\ttrain-auc:0.820975\teval-auc:0.656259\n",
      "[24]\ttrain-auc:0.823084\teval-auc:0.655911\n",
      "[25]\ttrain-auc:0.826247\teval-auc:0.654712\n",
      "[26]\ttrain-auc:0.829466\teval-auc:0.656226\n",
      "[27]\ttrain-auc:0.835497\teval-auc:0.656689\n",
      "[28]\ttrain-auc:0.840543\teval-auc:0.658483\n",
      "[29]\ttrain-auc:0.843853\teval-auc:0.660374\n",
      "[30]\ttrain-auc:0.84645\teval-auc:0.660287\n",
      "[31]\ttrain-auc:0.850527\teval-auc:0.657539\n",
      "[32]\ttrain-auc:0.851991\teval-auc:0.658545\n",
      "[33]\ttrain-auc:0.856164\teval-auc:0.659035\n",
      "[34]\ttrain-auc:0.858552\teval-auc:0.658452\n",
      "[35]\ttrain-auc:0.859239\teval-auc:0.660729\n",
      "[36]\ttrain-auc:0.861229\teval-auc:0.661803\n",
      "[37]\ttrain-auc:0.863045\teval-auc:0.662262\n",
      "[38]\ttrain-auc:0.867622\teval-auc:0.662283\n",
      "[39]\ttrain-auc:0.868944\teval-auc:0.66219\n",
      "[40]\ttrain-auc:0.869683\teval-auc:0.661983\n",
      "[41]\ttrain-auc:0.870994\teval-auc:0.662004\n",
      "[42]\ttrain-auc:0.874277\teval-auc:0.660098\n",
      "[43]\ttrain-auc:0.876139\teval-auc:0.662399\n",
      "[44]\ttrain-auc:0.877927\teval-auc:0.662645\n",
      "[45]\ttrain-auc:0.87943\teval-auc:0.663564\n",
      "[46]\ttrain-auc:0.880418\teval-auc:0.663626\n",
      "[47]\ttrain-auc:0.882725\teval-auc:0.662099\n",
      "[48]\ttrain-auc:0.884747\teval-auc:0.66309\n",
      "[49]\ttrain-auc:0.886056\teval-auc:0.662\n",
      "[50]\ttrain-auc:0.887352\teval-auc:0.66136\n",
      "[51]\ttrain-auc:0.889351\teval-auc:0.660746\n",
      "[52]\ttrain-auc:0.891226\teval-auc:0.6614\n",
      "[53]\ttrain-auc:0.89216\teval-auc:0.660978\n",
      "[54]\ttrain-auc:0.895902\teval-auc:0.659985\n",
      "[55]\ttrain-auc:0.89625\teval-auc:0.659861\n",
      "[56]\ttrain-auc:0.897215\teval-auc:0.659552\n",
      "[57]\ttrain-auc:0.898438\teval-auc:0.658181\n",
      "[58]\ttrain-auc:0.901218\teval-auc:0.658704\n",
      "[59]\ttrain-auc:0.903064\teval-auc:0.656973\n",
      "[60]\ttrain-auc:0.905949\teval-auc:0.65664\n",
      "[61]\ttrain-auc:0.90661\teval-auc:0.656809\n",
      "[62]\ttrain-auc:0.908756\teval-auc:0.658437\n",
      "[63]\ttrain-auc:0.909104\teval-auc:0.658152\n",
      "[64]\ttrain-auc:0.910107\teval-auc:0.658315\n",
      "[65]\ttrain-auc:0.91086\teval-auc:0.657798\n",
      "[66]\ttrain-auc:0.911695\teval-auc:0.657885\n",
      "[67]\ttrain-auc:0.912385\teval-auc:0.657753\n",
      "[68]\ttrain-auc:0.914616\teval-auc:0.657105\n",
      "[69]\ttrain-auc:0.916417\teval-auc:0.657242\n",
      "[70]\ttrain-auc:0.91701\teval-auc:0.656356\n",
      "[71]\ttrain-auc:0.91853\teval-auc:0.6561\n",
      "[72]\ttrain-auc:0.919842\teval-auc:0.654877\n",
      "[73]\ttrain-auc:0.920367\teval-auc:0.655628\n",
      "[74]\ttrain-auc:0.922145\teval-auc:0.656166\n",
      "[75]\ttrain-auc:0.923073\teval-auc:0.655489\n",
      "[76]\ttrain-auc:0.923724\teval-auc:0.655419\n",
      "[77]\ttrain-auc:0.924263\teval-auc:0.654832\n",
      "[78]\ttrain-auc:0.925758\teval-auc:0.655918\n",
      "[79]\ttrain-auc:0.928624\teval-auc:0.656702\n",
      "[80]\ttrain-auc:0.928952\teval-auc:0.656563\n",
      "[81]\ttrain-auc:0.930069\teval-auc:0.656385\n",
      "[82]\ttrain-auc:0.930649\teval-auc:0.65695\n",
      "[83]\ttrain-auc:0.931283\teval-auc:0.656865\n",
      "[84]\ttrain-auc:0.931678\teval-auc:0.656656\n",
      "[85]\ttrain-auc:0.933261\teval-auc:0.657266\n",
      "[86]\ttrain-auc:0.93477\teval-auc:0.657366\n",
      "[87]\ttrain-auc:0.936816\teval-auc:0.657722\n",
      "[88]\ttrain-auc:0.939037\teval-auc:0.65871\n",
      "[89]\ttrain-auc:0.940689\teval-auc:0.659732\n",
      "[90]\ttrain-auc:0.940981\teval-auc:0.659474\n",
      "[91]\ttrain-auc:0.941568\teval-auc:0.659263\n",
      "[92]\ttrain-auc:0.941921\teval-auc:0.658971\n",
      "[93]\ttrain-auc:0.942587\teval-auc:0.65978\n",
      "[94]\ttrain-auc:0.944321\teval-auc:0.659707\n",
      "[95]\ttrain-auc:0.944508\teval-auc:0.660216\n",
      "[96]\ttrain-auc:0.944752\teval-auc:0.660349\n",
      "[97]\ttrain-auc:0.945574\teval-auc:0.659556\n",
      "[98]\ttrain-auc:0.945834\teval-auc:0.66008\n",
      "[99]\ttrain-auc:0.946108\teval-auc:0.660123\n",
      "[100]\ttrain-auc:0.946482\teval-auc:0.660789\n",
      "[101]\ttrain-auc:0.946843\teval-auc:0.660847\n",
      "[102]\ttrain-auc:0.948403\teval-auc:0.660427\n",
      "[103]\ttrain-auc:0.949306\teval-auc:0.661224\n",
      "[104]\ttrain-auc:0.949741\teval-auc:0.661538\n",
      "[105]\ttrain-auc:0.950436\teval-auc:0.662262\n",
      "[106]\ttrain-auc:0.950858\teval-auc:0.662571\n",
      "[107]\ttrain-auc:0.951163\teval-auc:0.662215\n",
      "[108]\ttrain-auc:0.952026\teval-auc:0.662825\n",
      "[109]\ttrain-auc:0.953106\teval-auc:0.663433\n",
      "[110]\ttrain-auc:0.953467\teval-auc:0.662682\n",
      "[111]\ttrain-auc:0.954249\teval-auc:0.662991\n",
      "[112]\ttrain-auc:0.955683\teval-auc:0.662868\n",
      "[113]\ttrain-auc:0.956306\teval-auc:0.661993\n",
      "[114]\ttrain-auc:0.956529\teval-auc:0.661362\n",
      "[115]\ttrain-auc:0.957032\teval-auc:0.66165\n",
      "[116]\ttrain-auc:0.957247\teval-auc:0.66146\n",
      "[117]\ttrain-auc:0.958356\teval-auc:0.660998\n",
      "[118]\ttrain-auc:0.958797\teval-auc:0.661197\n",
      "[119]\ttrain-auc:0.95913\teval-auc:0.660626\n",
      "[120]\ttrain-auc:0.959624\teval-auc:0.660818\n",
      "[121]\ttrain-auc:0.959911\teval-auc:0.661077\n",
      "[122]\ttrain-auc:0.960117\teval-auc:0.661062\n",
      "[123]\ttrain-auc:0.960224\teval-auc:0.660841\n",
      "[124]\ttrain-auc:0.960577\teval-auc:0.660942\n",
      "[125]\ttrain-auc:0.961095\teval-auc:0.660692\n",
      "[126]\ttrain-auc:0.961255\teval-auc:0.660554\n",
      "[127]\ttrain-auc:0.962474\teval-auc:0.661842\n",
      "[128]\ttrain-auc:0.96341\teval-auc:0.661654\n",
      "[129]\ttrain-auc:0.963842\teval-auc:0.661298\n",
      "[130]\ttrain-auc:0.96468\teval-auc:0.661009\n",
      "[131]\ttrain-auc:0.964881\teval-auc:0.660392\n",
      "[132]\ttrain-auc:0.965495\teval-auc:0.660957\n",
      "[133]\ttrain-auc:0.965657\teval-auc:0.661272\n",
      "[134]\ttrain-auc:0.966418\teval-auc:0.661598\n",
      "[135]\ttrain-auc:0.966924\teval-auc:0.662184\n",
      "[136]\ttrain-auc:0.967118\teval-auc:0.662943\n",
      "[137]\ttrain-auc:0.967663\teval-auc:0.662521\n",
      "[138]\ttrain-auc:0.96804\teval-auc:0.661758\n",
      "[139]\ttrain-auc:0.968757\teval-auc:0.660024\n",
      "[140]\ttrain-auc:0.968893\teval-auc:0.659906\n",
      "[141]\ttrain-auc:0.968996\teval-auc:0.659689\n",
      "[142]\ttrain-auc:0.969388\teval-auc:0.659757\n",
      "[143]\ttrain-auc:0.969844\teval-auc:0.659279\n",
      "[144]\ttrain-auc:0.970288\teval-auc:0.659548\n",
      "[145]\ttrain-auc:0.970832\teval-auc:0.660061\n",
      "[146]\ttrain-auc:0.970878\teval-auc:0.660533\n",
      "Stopping. Best iteration:\n",
      "[46]\ttrain-auc:0.880418\teval-auc:0.663626\n",
      "\n",
      "Validating...\n",
      "area under the precision-recall curve: 0.449620\n",
      "precision score: 0.708861\n",
      "recall score: 0.136585\n",
      "Importance array:  [('feat_25', 168), ('feat_61', 153), ('feat_92', 129), ('feat_58', 128), ('feat_54', 125), ('feat_36', 117), ('feat_4', 115), ('feat_57', 114), ('feat_85', 113), ('feat_50', 113), ('feat_28', 112), ('feat_53', 105), ('feat_35', 104), ('feat_19', 102), ('feat_15', 93), ('feat_43', 89), ('feat_72', 88), ('feat_21', 88), ('feat_46', 87), ('feat_5', 87), ('feat_9', 85), ('feat_32', 84), ('feat_52', 84), ('feat_23', 83), ('feat_66', 83), ('feat_14', 82), ('feat_70', 82), ('feat_40', 81), ('feat_99', 80), ('feat_12', 77), ('feat_84', 77), ('feat_39', 76), ('feat_73', 73), ('feat_17', 73), ('feat_45', 71), ('feat_88', 70), ('feat_48', 70), ('feat_26', 69), ('feat_31', 69), ('feat_65', 69), ('feat_83', 67), ('feat_37', 67), ('feat_96', 66), ('feat_56', 65), ('feat_49', 64), ('feat_81', 64), ('feat_22', 63), ('feat_27', 62), ('feat_89', 62), ('feat_74', 61), ('feat_82', 61), ('feat_33', 61), ('feat_62', 60), ('feat_20', 58), ('feat_51', 58), ('feat_67', 57), ('feat_16', 57), ('feat_3', 56), ('feat_59', 54), ('feat_94', 54), ('feat_78', 54), ('feat_77', 53), ('feat_97', 53), ('feat_98', 52), ('feat_44', 51), ('feat_13', 51), ('feat_87', 48), ('feat_60', 46), ('feat_11', 45), ('feat_80', 44), ('feat_47', 44), ('feat_95', 41), ('feat_30', 40), ('feat_41', 40), ('feat_64', 39), ('feat_10', 38), ('feat_34', 36), ('feat_42', 35), ('feat_29', 32), ('feat_55', 24), ('feat_38', 23), ('feat_69', 16), ('feat_63', 13), ('feat_76', 13), ('feat_93', 12), ('feat_8', 12), ('feat_2', 10), ('feat_0', 9), ('feat_68', 6)]\n",
      "Predict test set... \n",
      "area under the precision-recall curve test set: 0.454772\n"
     ]
    },
    {
     "name": "stderr",
     "output_type": "stream",
     "text": [
      "/usr/local/envs/py3env/lib/python3.5/site-packages/matplotlib/font_manager.py:1320: UserWarning: findfont: Font family ['sans-serif'] not found. Falling back to DejaVu Sans\n",
      "  (prop.get_family(), self.defaultFamily[fontext]))\n"
     ]
    },
    {
     "data": {
      "image/png": "[encoded data removed]",
      "text/plain": [
       "<matplotlib.figure.Figure at 0x7f338caf9128>"
      ]
     },
     "metadata": {},
     "output_type": "display_data"
    },
    {
     "name": "stdout",
     "output_type": "stream",
     "text": [
      "Training time: 0.09 minutes\n",
      "0:00:05.670164\n",
      "CPU times: user 42 s, sys: 657 ms, total: 42.6 s\n",
      "Wall time: 5.67 s\n"
     ]
    }
   ],
   "source": [
    "%%time\n",
    "start_time = dt.datetime.now()\n",
    "print(\"Start time: \",start_time)\n",
    "preds, imp, model = run_single(X_train, X_test, y_train, y_test,42)\n",
    "print(dt.datetime.now()-start_time)"
   ]
  },
  {
   "cell_type": "code",
   "execution_count": null,
   "metadata": {},
   "outputs": [],
   "source": []
  }
 ],
 "metadata": {
  "kernelspec": {
   "display_name": "Python 3",
   "language": "python",
   "name": "python3"
  },
  "language_info": {
   "codemirror_mode": {
    "name": "ipython",
    "version": 3
   },
   "file_extension": ".py",
   "mimetype": "text/x-python",
   "name": "python",
   "nbconvert_exporter": "python",
   "pygments_lexer": "ipython3",
   "version": "3.5.6"
  }
 },
 "nbformat": 4,
 "nbformat_minor": 2
}
