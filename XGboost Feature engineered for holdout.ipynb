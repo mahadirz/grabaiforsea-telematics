{
 "cells": [
  {
   "cell_type": "markdown",
   "metadata": {},
   "source": [
    "# Xgboost for holdout dataset"
   ]
  },
  {
   "cell_type": "code",
   "execution_count": 2,
   "metadata": {},
   "outputs": [],
   "source": [
    "path_to_feature_dir = \"safety/features/\"\n",
    "path_to_label_dir = \"safety/labels/\""
   ]
  },
  {
   "cell_type": "code",
   "execution_count": 3,
   "metadata": {},
   "outputs": [
    {
     "name": "stderr",
     "output_type": "stream",
     "text": [
      "/usr/local/envs/py3env/lib/python3.5/site-packages/sklearn/cross_validation.py:41: DeprecationWarning: This module was deprecated in version 0.18 in favor of the model_selection module into which all the refactored classes and functions are moved. Also note that the interface of the new CV iterators are different from that of this module. This module will be removed in 0.20.\n",
      "  \"This module will be removed in 0.20.\", DeprecationWarning)\n"
     ]
    }
   ],
   "source": [
    "import numpy as np\n",
    "import pandas as pd\n",
    "from sklearn.model_selection import train_test_split\n",
    "from sklearn.metrics import mean_squared_error\n",
    "from operator import itemgetter\n",
    "import xgboost as xgb\n",
    "import random\n",
    "import time\n",
    "from sklearn.model_selection import GridSearchCV\n",
    "from sklearn.metrics import average_precision_score\n",
    "import matplotlib.pyplot as plt\n",
    "from numpy import genfromtxt\n",
    "import seaborn as sns\n",
    "from sklearn import preprocessing\n",
    "from sklearn.metrics import roc_curve, auc,recall_score,precision_score\n",
    "import datetime as dt\n",
    "import os\n",
    "from tqdm import tqdm_notebook as tqdm\n",
    "from scipy import stats\n",
    "import gc\n",
    "from sklearn.externals import joblib"
   ]
  },
  {
   "cell_type": "code",
   "execution_count": 4,
   "metadata": {},
   "outputs": [],
   "source": [
    "def signaltonoise(a, axis, ddof): \n",
    "    a = np.asanyarray(a) \n",
    "    m = a.mean(axis) \n",
    "    sd = a.std(axis = axis, ddof = ddof) \n",
    "    return np.where(sd == 0, 0, m / sd)"
   ]
  },
  {
   "cell_type": "code",
   "execution_count": 5,
   "metadata": {},
   "outputs": [],
   "source": [
    "def read_multiple_csv(path):\n",
    "    files = os.listdir(path)\n",
    "    df = None\n",
    "    pbar = tqdm(total=len(files))\n",
    "    for f in files:\n",
    "        ext = f.split(\".\")\n",
    "        if len(ext)>0 and ext[-1] == \"csv\":\n",
    "            #print(f)\n",
    "            _ = pd.read_csv(os.path.join(path, f))\n",
    "            if df is None:\n",
    "                df = _\n",
    "            else:\n",
    "                df = df.append(_)\n",
    "        pbar.update(1)\n",
    "    del _\n",
    "    gc.collect()\n",
    "    return df"
   ]
  },
  {
   "cell_type": "code",
   "execution_count": 6,
   "metadata": {},
   "outputs": [
    {
     "data": {
      "application/vnd.jupyter.widget-view+json": {
       "model_id": "1ac0c532a553450b89856f9eccfac926",
       "version_major": 2,
       "version_minor": 0
      },
      "text/plain": [
       "HBox(children=(IntProgress(value=0, max=11), HTML(value='')))"
      ]
     },
     "metadata": {},
     "output_type": "display_data"
    },
    {
     "name": "stdout",
     "output_type": "stream",
     "text": [
      "CPU times: user 36.8 s, sys: 5.98 s, total: 42.8 s\n",
      "Wall time: 42.8 s\n"
     ]
    }
   ],
   "source": [
    "%%time\n",
    "feature_df = read_multiple_csv(path_to_feature_dir)"
   ]
  },
  {
   "cell_type": "code",
   "execution_count": 7,
   "metadata": {},
   "outputs": [
    {
     "data": {
      "application/vnd.jupyter.widget-view+json": {
       "model_id": "a6d65dcc35ee486190e81019e557da10",
       "version_major": 2,
       "version_minor": 0
      },
      "text/plain": [
       "HBox(children=(IntProgress(value=0, max=2), HTML(value='')))"
      ]
     },
     "metadata": {},
     "output_type": "display_data"
    },
    {
     "data": {
      "text/html": [
       "<div>\n",
       "<style scoped>\n",
       "    .dataframe tbody tr th:only-of-type {\n",
       "        vertical-align: middle;\n",
       "    }\n",
       "\n",
       "    .dataframe tbody tr th {\n",
       "        vertical-align: top;\n",
       "    }\n",
       "\n",
       "    .dataframe thead th {\n",
       "        text-align: right;\n",
       "    }\n",
       "</style>\n",
       "<table border=\"1\" class=\"dataframe\">\n",
       "  <thead>\n",
       "    <tr style=\"text-align: right;\">\n",
       "      <th></th>\n",
       "      <th>bookingID</th>\n",
       "      <th>label</th>\n",
       "    </tr>\n",
       "  </thead>\n",
       "  <tbody>\n",
       "    <tr>\n",
       "      <th>0</th>\n",
       "      <td>111669149733</td>\n",
       "      <td>0</td>\n",
       "    </tr>\n",
       "    <tr>\n",
       "      <th>1</th>\n",
       "      <td>335007449205</td>\n",
       "      <td>1</td>\n",
       "    </tr>\n",
       "    <tr>\n",
       "      <th>2</th>\n",
       "      <td>171798691856</td>\n",
       "      <td>0</td>\n",
       "    </tr>\n",
       "    <tr>\n",
       "      <th>3</th>\n",
       "      <td>1520418422900</td>\n",
       "      <td>0</td>\n",
       "    </tr>\n",
       "    <tr>\n",
       "      <th>4</th>\n",
       "      <td>798863917116</td>\n",
       "      <td>0</td>\n",
       "    </tr>\n",
       "  </tbody>\n",
       "</table>\n",
       "</div>"
      ],
      "text/plain": [
       "       bookingID  label\n",
       "0   111669149733      0\n",
       "1   335007449205      1\n",
       "2   171798691856      0\n",
       "3  1520418422900      0\n",
       "4   798863917116      0"
      ]
     },
     "execution_count": 7,
     "metadata": {},
     "output_type": "execute_result"
    }
   ],
   "source": [
    "label_df = read_multiple_csv(path_to_label_dir)\n",
    "label_df.head()"
   ]
  },
  {
   "cell_type": "code",
   "execution_count": 9,
   "metadata": {},
   "outputs": [],
   "source": [
    "# load model from file\n",
    "model = joblib.load(\"models/xgboost_feature_engineered.model\")"
   ]
  },
  {
   "cell_type": "code",
   "execution_count": 10,
   "metadata": {},
   "outputs": [
    {
     "name": "stdout",
     "output_type": "stream",
     "text": [
      "19982\n",
      "19982\n"
     ]
    }
   ],
   "source": [
    "print(len(label_df))\n",
    "# we can't keep both due to label contains both 0 and 1\n",
    "label_df = label_df.drop_duplicates(subset=['bookingID'], keep=False)\n",
    "print(len(label_df))"
   ]
  },
  {
   "cell_type": "code",
   "execution_count": 11,
   "metadata": {},
   "outputs": [
    {
     "data": {
      "text/html": [
       "<div>\n",
       "<style scoped>\n",
       "    .dataframe tbody tr th:only-of-type {\n",
       "        vertical-align: middle;\n",
       "    }\n",
       "\n",
       "    .dataframe tbody tr th {\n",
       "        vertical-align: top;\n",
       "    }\n",
       "\n",
       "    .dataframe thead th {\n",
       "        text-align: right;\n",
       "    }\n",
       "</style>\n",
       "<table border=\"1\" class=\"dataframe\">\n",
       "  <thead>\n",
       "    <tr style=\"text-align: right;\">\n",
       "      <th></th>\n",
       "      <th>bookingID</th>\n",
       "      <th>count</th>\n",
       "      <th>label</th>\n",
       "    </tr>\n",
       "  </thead>\n",
       "  <tbody>\n",
       "    <tr>\n",
       "      <th>0</th>\n",
       "      <td>438086664371</td>\n",
       "      <td>7561</td>\n",
       "      <td>1</td>\n",
       "    </tr>\n",
       "    <tr>\n",
       "      <th>1</th>\n",
       "      <td>1374389534819</td>\n",
       "      <td>4499</td>\n",
       "      <td>1</td>\n",
       "    </tr>\n",
       "    <tr>\n",
       "      <th>2</th>\n",
       "      <td>34359738469</td>\n",
       "      <td>4302</td>\n",
       "      <td>1</td>\n",
       "    </tr>\n",
       "    <tr>\n",
       "      <th>3</th>\n",
       "      <td>1108101562533</td>\n",
       "      <td>3925</td>\n",
       "      <td>1</td>\n",
       "    </tr>\n",
       "    <tr>\n",
       "      <th>4</th>\n",
       "      <td>747324309632</td>\n",
       "      <td>3674</td>\n",
       "      <td>1</td>\n",
       "    </tr>\n",
       "  </tbody>\n",
       "</table>\n",
       "</div>"
      ],
      "text/plain": [
       "       bookingID  count  label\n",
       "0   438086664371   7561      1\n",
       "1  1374389534819   4499      1\n",
       "2    34359738469   4302      1\n",
       "3  1108101562533   3925      1\n",
       "4   747324309632   3674      1"
      ]
     },
     "execution_count": 11,
     "metadata": {},
     "output_type": "execute_result"
    }
   ],
   "source": [
    "label_df = feature_df.groupby('bookingID',as_index=False)\\\n",
    ".agg({'Accuracy':'count'})\\\n",
    ".sort_values(by='Accuracy', ascending=False)\\\n",
    ".rename(columns={'Accuracy':'count'})\\\n",
    ".merge(label_df, on='bookingID', how='inner')\n",
    "\n",
    "label_df.head()"
   ]
  },
  {
   "cell_type": "code",
   "execution_count": 12,
   "metadata": {},
   "outputs": [
    {
     "data": {
      "text/plain": [
       "19982"
      ]
     },
     "execution_count": 12,
     "metadata": {},
     "output_type": "execute_result"
    }
   ],
   "source": [
    "len(label_df)"
   ]
  },
  {
   "cell_type": "code",
   "execution_count": 13,
   "metadata": {},
   "outputs": [],
   "source": [
    "# compute acceleration\n",
    "feature_df = feature_df.fillna(0)\n",
    "feature_df['acceleration'] = (feature_df['Speed']-feature_df['Speed'].shift())/\\\n",
    "(feature_df['second']-feature_df['second'].shift())\n",
    "feature_df = feature_df.fillna(0)"
   ]
  },
  {
   "cell_type": "code",
   "execution_count": 14,
   "metadata": {},
   "outputs": [
    {
     "data": {
      "text/plain": [
       "16135561"
      ]
     },
     "execution_count": 14,
     "metadata": {},
     "output_type": "execute_result"
    }
   ],
   "source": [
    "len(feature_df)"
   ]
  },
  {
   "cell_type": "code",
   "execution_count": 15,
   "metadata": {},
   "outputs": [
    {
     "name": "stdout",
     "output_type": "stream",
     "text": [
      "CPU times: user 3 µs, sys: 1 µs, total: 4 µs\n",
      "Wall time: 7.39 µs\n"
     ]
    }
   ],
   "source": [
    "%%time\n",
    "# 1000 rows = 41.5 seconds\n",
    "# 10000 rows = 5min 10s\n",
    "# so 16,135,561 rows  = ~7 days\n",
    "# the computing time is approx linear to number of rows  so no time to wait for the result\n",
    "# feature_df.sample(10000).groupby('bookingID').describe()"
   ]
  },
  {
   "cell_type": "code",
   "execution_count": 16,
   "metadata": {},
   "outputs": [
    {
     "name": "stdout",
     "output_type": "stream",
     "text": [
      "CPU times: user 10.5 s, sys: 781 ms, total: 11.3 s\n",
      "Wall time: 11.3 s\n"
     ]
    }
   ],
   "source": [
    "%%time\n",
    "funcs = ['min','max','mean','median']\n",
    "feat_df = feature_df.groupby('bookingID', as_index=False)\\\n",
    ".agg({'Speed':funcs, 'acceleration':funcs,'acceleration_x':funcs, \n",
    "      'acceleration_y':funcs, 'acceleration_z':funcs, 'second': 'max'})\n",
    "feat_df.columns = feat_df.columns.map('|'.join).str.strip('|')"
   ]
  },
  {
   "cell_type": "code",
   "execution_count": 17,
   "metadata": {},
   "outputs": [
    {
     "name": "stdout",
     "output_type": "stream",
     "text": [
      "CPU times: user 18.9 s, sys: 22.1 s, total: 41 s\n",
      "Wall time: 41 s\n"
     ]
    }
   ],
   "source": [
    "%%time\n",
    "# This function has less memory usage but slower due to 1 iteration handle one column only\n",
    "for i in ['Bearing','acceleration_x', 'acceleration_y', 'acceleration_z','gyro_x', 'gyro_y', 'gyro_z']:\n",
    "    feature_df['z_'+i] = np.abs(stats.zscore(feature_df[i]))\n",
    "    feature_df[i+'_g_3'] = feature_df['z_'+i] > 3\n",
    "\n",
    "    temp_df = feature_df.groupby('bookingID', as_index=False)\\\n",
    "    .agg({i+'_g_3':'sum'})\n",
    "\n",
    "    feat_df = feat_df.merge(temp_df, on='bookingID', how='left')\n",
    "    feature_df.drop(columns=[i+'_g_3','z_'+i])\n",
    "    del temp_df\n",
    "    gc.collect()"
   ]
  },
  {
   "cell_type": "code",
   "execution_count": 18,
   "metadata": {},
   "outputs": [
    {
     "data": {
      "text/plain": [
       "56"
      ]
     },
     "execution_count": 18,
     "metadata": {},
     "output_type": "execute_result"
    }
   ],
   "source": [
    "# count acceleration >= 2 and >= 3\n",
    "feature_df['acceleration_ge_2'] = feature_df['acceleration'] >= 2\n",
    "feature_df['acceleration_ge_3'] = feature_df['acceleration'] >= 3\n",
    "\n",
    "temp_df = feature_df.groupby('bookingID', as_index=False)\\\n",
    ".agg({'acceleration_ge_2':'sum','acceleration_ge_3':'sum'})\n",
    "\n",
    "feat_df = feat_df.merge(temp_df, on='bookingID', how='left')\n",
    "feature_df.drop(columns=['acceleration_ge_2','acceleration_ge_3'])\n",
    "del temp_df\n",
    "gc.collect()"
   ]
  },
  {
   "cell_type": "code",
   "execution_count": 19,
   "metadata": {},
   "outputs": [
    {
     "name": "stderr",
     "output_type": "stream",
     "text": [
      "/usr/local/envs/py3env/lib/python3.5/site-packages/ipykernel/__main__.py:5: RuntimeWarning: invalid value encountered in double_scalars\n",
      "/usr/local/envs/py3env/lib/python3.5/site-packages/ipykernel/__main__.py:5: RuntimeWarning: divide by zero encountered in double_scalars\n",
      "/usr/local/envs/py3env/lib/python3.5/site-packages/numpy/core/_methods.py:117: RuntimeWarning: invalid value encountered in subtract\n",
      "  x = asanyarray(arr - arrmean)\n",
      "/usr/local/envs/py3env/lib/python3.5/site-packages/numpy/core/_methods.py:75: RuntimeWarning: invalid value encountered in reduce\n",
      "  ret = umr_sum(arr, axis, dtype, out, keepdims)\n",
      "/usr/local/envs/py3env/lib/python3.5/site-packages/numpy/core/_methods.py:107: RuntimeWarning: invalid value encountered in reduce\n",
      "  arrmean = umr_sum(arr, axis, dtype, keepdims=True)\n"
     ]
    },
    {
     "name": "stdout",
     "output_type": "stream",
     "text": [
      "CPU times: user 2min 18s, sys: 14.7 s, total: 2min 33s\n",
      "Wall time: 2min 33s\n"
     ]
    }
   ],
   "source": [
    "%%time\n",
    "# compute signal to noise ratio\n",
    "for i in ['Bearing','Speed','acceleration','acceleration_x', 'acceleration_y', 'acceleration_z','gyro_x', 'gyro_y', 'gyro_z']:\n",
    "    temp_df = feature_df.groupby('bookingID').apply(lambda x: signaltonoise(x[i], axis=0, ddof=0))\n",
    "    temp_df = temp_df.reset_index().rename(columns={0:i+'_snr'})\n",
    "    temp_df = temp_df.replace([np.inf, -np.inf], -1)\n",
    "    temp_df = temp_df.fillna(0)\n",
    "    temp_df[i+'_snr'] = temp_df[i+'_snr'].astype('float64')\n",
    "    feat_df = feat_df.merge(temp_df, on='bookingID', how='left')\n",
    "    del temp_df\n",
    "    gc.collect()"
   ]
  },
  {
   "cell_type": "code",
   "execution_count": 20,
   "metadata": {},
   "outputs": [],
   "source": [
    "feat_df = feat_df.replace([np.inf, -np.inf], -1)\n",
    "feat_df = feat_df.fillna(0)"
   ]
  },
  {
   "cell_type": "code",
   "execution_count": 21,
   "metadata": {},
   "outputs": [],
   "source": [
    "feat_df = feat_df.merge(label_df.drop(columns=['count']), on='bookingID', how='inner')"
   ]
  },
  {
   "cell_type": "code",
   "execution_count": 22,
   "metadata": {},
   "outputs": [
    {
     "data": {
      "text/plain": [
       "19982"
      ]
     },
     "execution_count": 22,
     "metadata": {},
     "output_type": "execute_result"
    }
   ],
   "source": [
    "len(feat_df)"
   ]
  },
  {
   "cell_type": "code",
   "execution_count": 23,
   "metadata": {},
   "outputs": [
    {
     "data": {
      "text/plain": [
       "0"
      ]
     },
     "execution_count": 23,
     "metadata": {},
     "output_type": "execute_result"
    }
   ],
   "source": [
    "feat_df.isnull().values.sum()"
   ]
  },
  {
   "cell_type": "code",
   "execution_count": 24,
   "metadata": {},
   "outputs": [
    {
     "data": {
      "text/html": [
       "<div>\n",
       "<style scoped>\n",
       "    .dataframe tbody tr th:only-of-type {\n",
       "        vertical-align: middle;\n",
       "    }\n",
       "\n",
       "    .dataframe tbody tr th {\n",
       "        vertical-align: top;\n",
       "    }\n",
       "\n",
       "    .dataframe thead th {\n",
       "        text-align: right;\n",
       "    }\n",
       "</style>\n",
       "<table border=\"1\" class=\"dataframe\">\n",
       "  <thead>\n",
       "    <tr style=\"text-align: right;\">\n",
       "      <th></th>\n",
       "      <th>bookingID</th>\n",
       "      <th>second|max</th>\n",
       "      <th>acceleration|min</th>\n",
       "      <th>acceleration|max</th>\n",
       "      <th>acceleration|mean</th>\n",
       "      <th>acceleration|median</th>\n",
       "      <th>Speed|min</th>\n",
       "      <th>Speed|max</th>\n",
       "      <th>Speed|mean</th>\n",
       "      <th>Speed|median</th>\n",
       "      <th>...</th>\n",
       "      <th>Bearing_snr</th>\n",
       "      <th>Speed_snr</th>\n",
       "      <th>acceleration_snr</th>\n",
       "      <th>acceleration_x_snr</th>\n",
       "      <th>acceleration_y_snr</th>\n",
       "      <th>acceleration_z_snr</th>\n",
       "      <th>gyro_x_snr</th>\n",
       "      <th>gyro_y_snr</th>\n",
       "      <th>gyro_z_snr</th>\n",
       "      <th>label</th>\n",
       "    </tr>\n",
       "  </thead>\n",
       "  <tbody>\n",
       "    <tr>\n",
       "      <th>12328</th>\n",
       "      <td>996432412719</td>\n",
       "      <td>1530.0</td>\n",
       "      <td>-4.076667</td>\n",
       "      <td>7.890000</td>\n",
       "      <td>0.014799</td>\n",
       "      <td>0.004113</td>\n",
       "      <td>0.000000</td>\n",
       "      <td>25.810000</td>\n",
       "      <td>8.134216</td>\n",
       "      <td>6.520000</td>\n",
       "      <td>...</td>\n",
       "      <td>1.245378</td>\n",
       "      <td>1.013098</td>\n",
       "      <td>0.043354</td>\n",
       "      <td>-0.045272</td>\n",
       "      <td>18.008776</td>\n",
       "      <td>4.176361</td>\n",
       "      <td>-0.013789</td>\n",
       "      <td>0.024338</td>\n",
       "      <td>-0.033890</td>\n",
       "      <td>1</td>\n",
       "    </tr>\n",
       "    <tr>\n",
       "      <th>2969</th>\n",
       "      <td>214748364964</td>\n",
       "      <td>419.0</td>\n",
       "      <td>-1.614380</td>\n",
       "      <td>2.056922</td>\n",
       "      <td>0.010153</td>\n",
       "      <td>0.006219</td>\n",
       "      <td>0.485750</td>\n",
       "      <td>21.341791</td>\n",
       "      <td>8.160629</td>\n",
       "      <td>7.274844</td>\n",
       "      <td>...</td>\n",
       "      <td>1.366600</td>\n",
       "      <td>1.489515</td>\n",
       "      <td>0.046805</td>\n",
       "      <td>0.113935</td>\n",
       "      <td>-13.228464</td>\n",
       "      <td>0.514310</td>\n",
       "      <td>-0.091478</td>\n",
       "      <td>-0.020205</td>\n",
       "      <td>-0.048220</td>\n",
       "      <td>1</td>\n",
       "    </tr>\n",
       "    <tr>\n",
       "      <th>14094</th>\n",
       "      <td>1151051235513</td>\n",
       "      <td>825.0</td>\n",
       "      <td>-18.790000</td>\n",
       "      <td>-1.000000</td>\n",
       "      <td>-1.000000</td>\n",
       "      <td>0.000833</td>\n",
       "      <td>0.000000</td>\n",
       "      <td>16.441021</td>\n",
       "      <td>5.946689</td>\n",
       "      <td>5.220456</td>\n",
       "      <td>...</td>\n",
       "      <td>1.480683</td>\n",
       "      <td>1.108407</td>\n",
       "      <td>0.000000</td>\n",
       "      <td>0.341084</td>\n",
       "      <td>14.685728</td>\n",
       "      <td>2.831484</td>\n",
       "      <td>0.025248</td>\n",
       "      <td>0.002778</td>\n",
       "      <td>0.010555</td>\n",
       "      <td>1</td>\n",
       "    </tr>\n",
       "    <tr>\n",
       "      <th>11754</th>\n",
       "      <td>953482739762</td>\n",
       "      <td>449.0</td>\n",
       "      <td>-20.012993</td>\n",
       "      <td>2.193271</td>\n",
       "      <td>-0.052753</td>\n",
       "      <td>0.000914</td>\n",
       "      <td>0.000000</td>\n",
       "      <td>20.801163</td>\n",
       "      <td>9.574979</td>\n",
       "      <td>12.850331</td>\n",
       "      <td>...</td>\n",
       "      <td>1.295047</td>\n",
       "      <td>1.184331</td>\n",
       "      <td>-0.053539</td>\n",
       "      <td>-0.660168</td>\n",
       "      <td>21.485855</td>\n",
       "      <td>7.750045</td>\n",
       "      <td>-0.040950</td>\n",
       "      <td>0.206538</td>\n",
       "      <td>0.185089</td>\n",
       "      <td>0</td>\n",
       "    </tr>\n",
       "    <tr>\n",
       "      <th>4306</th>\n",
       "      <td>335007449132</td>\n",
       "      <td>374.0</td>\n",
       "      <td>-5.693333</td>\n",
       "      <td>7.185665</td>\n",
       "      <td>0.054657</td>\n",
       "      <td>0.001289</td>\n",
       "      <td>-1.000000</td>\n",
       "      <td>25.044960</td>\n",
       "      <td>9.112271</td>\n",
       "      <td>7.893827</td>\n",
       "      <td>...</td>\n",
       "      <td>1.175360</td>\n",
       "      <td>1.196859</td>\n",
       "      <td>0.087033</td>\n",
       "      <td>0.081789</td>\n",
       "      <td>22.866424</td>\n",
       "      <td>-0.197371</td>\n",
       "      <td>-0.319559</td>\n",
       "      <td>-0.842363</td>\n",
       "      <td>0.253570</td>\n",
       "      <td>0</td>\n",
       "    </tr>\n",
       "    <tr>\n",
       "      <th>5789</th>\n",
       "      <td>446676598828</td>\n",
       "      <td>929.0</td>\n",
       "      <td>-1.000000</td>\n",
       "      <td>7.385097</td>\n",
       "      <td>-1.000000</td>\n",
       "      <td>0.002079</td>\n",
       "      <td>0.000000</td>\n",
       "      <td>29.811867</td>\n",
       "      <td>15.688319</td>\n",
       "      <td>17.630442</td>\n",
       "      <td>...</td>\n",
       "      <td>2.983218</td>\n",
       "      <td>1.850844</td>\n",
       "      <td>0.000000</td>\n",
       "      <td>0.246710</td>\n",
       "      <td>16.821999</td>\n",
       "      <td>1.322329</td>\n",
       "      <td>-0.019061</td>\n",
       "      <td>0.046319</td>\n",
       "      <td>0.051805</td>\n",
       "      <td>0</td>\n",
       "    </tr>\n",
       "    <tr>\n",
       "      <th>2481</th>\n",
       "      <td>180388626629</td>\n",
       "      <td>569.0</td>\n",
       "      <td>-2.748000</td>\n",
       "      <td>1.245555</td>\n",
       "      <td>-0.018010</td>\n",
       "      <td>0.005093</td>\n",
       "      <td>0.000000</td>\n",
       "      <td>15.620000</td>\n",
       "      <td>5.413743</td>\n",
       "      <td>3.780000</td>\n",
       "      <td>...</td>\n",
       "      <td>0.718361</td>\n",
       "      <td>1.002519</td>\n",
       "      <td>-0.067500</td>\n",
       "      <td>0.448081</td>\n",
       "      <td>15.617281</td>\n",
       "      <td>10.164228</td>\n",
       "      <td>-0.008123</td>\n",
       "      <td>0.059390</td>\n",
       "      <td>0.055667</td>\n",
       "      <td>0</td>\n",
       "    </tr>\n",
       "    <tr>\n",
       "      <th>9924</th>\n",
       "      <td>790273982615</td>\n",
       "      <td>869.0</td>\n",
       "      <td>-11.771532</td>\n",
       "      <td>-1.000000</td>\n",
       "      <td>-1.000000</td>\n",
       "      <td>0.008999</td>\n",
       "      <td>-1.000000</td>\n",
       "      <td>23.252136</td>\n",
       "      <td>6.774807</td>\n",
       "      <td>3.802588</td>\n",
       "      <td>...</td>\n",
       "      <td>1.192926</td>\n",
       "      <td>0.913046</td>\n",
       "      <td>0.000000</td>\n",
       "      <td>0.629657</td>\n",
       "      <td>-15.042109</td>\n",
       "      <td>-6.329486</td>\n",
       "      <td>-0.655068</td>\n",
       "      <td>-0.287266</td>\n",
       "      <td>0.043048</td>\n",
       "      <td>1</td>\n",
       "    </tr>\n",
       "    <tr>\n",
       "      <th>14184</th>\n",
       "      <td>1159641170053</td>\n",
       "      <td>719.0</td>\n",
       "      <td>-3.085662</td>\n",
       "      <td>-1.000000</td>\n",
       "      <td>-1.000000</td>\n",
       "      <td>0.004931</td>\n",
       "      <td>0.756276</td>\n",
       "      <td>16.984297</td>\n",
       "      <td>5.077238</td>\n",
       "      <td>3.981691</td>\n",
       "      <td>...</td>\n",
       "      <td>3.139649</td>\n",
       "      <td>1.276525</td>\n",
       "      <td>0.000000</td>\n",
       "      <td>-0.774281</td>\n",
       "      <td>-16.420177</td>\n",
       "      <td>0.773578</td>\n",
       "      <td>-0.037244</td>\n",
       "      <td>-0.067715</td>\n",
       "      <td>0.668308</td>\n",
       "      <td>0</td>\n",
       "    </tr>\n",
       "    <tr>\n",
       "      <th>2312</th>\n",
       "      <td>171798691954</td>\n",
       "      <td>1109.0</td>\n",
       "      <td>-6.629206</td>\n",
       "      <td>-1.000000</td>\n",
       "      <td>-1.000000</td>\n",
       "      <td>0.009560</td>\n",
       "      <td>-1.000000</td>\n",
       "      <td>26.590000</td>\n",
       "      <td>9.704500</td>\n",
       "      <td>9.095000</td>\n",
       "      <td>...</td>\n",
       "      <td>1.007468</td>\n",
       "      <td>1.199741</td>\n",
       "      <td>0.000000</td>\n",
       "      <td>-0.803599</td>\n",
       "      <td>17.924591</td>\n",
       "      <td>-1.714375</td>\n",
       "      <td>0.028680</td>\n",
       "      <td>0.037997</td>\n",
       "      <td>-0.032643</td>\n",
       "      <td>0</td>\n",
       "    </tr>\n",
       "  </tbody>\n",
       "</table>\n",
       "<p>10 rows × 41 columns</p>\n",
       "</div>"
      ],
      "text/plain": [
       "           bookingID  second|max  acceleration|min  acceleration|max  \\\n",
       "12328   996432412719      1530.0         -4.076667          7.890000   \n",
       "2969    214748364964       419.0         -1.614380          2.056922   \n",
       "14094  1151051235513       825.0        -18.790000         -1.000000   \n",
       "11754   953482739762       449.0        -20.012993          2.193271   \n",
       "4306    335007449132       374.0         -5.693333          7.185665   \n",
       "5789    446676598828       929.0         -1.000000          7.385097   \n",
       "2481    180388626629       569.0         -2.748000          1.245555   \n",
       "9924    790273982615       869.0        -11.771532         -1.000000   \n",
       "14184  1159641170053       719.0         -3.085662         -1.000000   \n",
       "2312    171798691954      1109.0         -6.629206         -1.000000   \n",
       "\n",
       "       acceleration|mean  acceleration|median  Speed|min  Speed|max  \\\n",
       "12328           0.014799             0.004113   0.000000  25.810000   \n",
       "2969            0.010153             0.006219   0.485750  21.341791   \n",
       "14094          -1.000000             0.000833   0.000000  16.441021   \n",
       "11754          -0.052753             0.000914   0.000000  20.801163   \n",
       "4306            0.054657             0.001289  -1.000000  25.044960   \n",
       "5789           -1.000000             0.002079   0.000000  29.811867   \n",
       "2481           -0.018010             0.005093   0.000000  15.620000   \n",
       "9924           -1.000000             0.008999  -1.000000  23.252136   \n",
       "14184          -1.000000             0.004931   0.756276  16.984297   \n",
       "2312           -1.000000             0.009560  -1.000000  26.590000   \n",
       "\n",
       "       Speed|mean  Speed|median  ...  Bearing_snr  Speed_snr  \\\n",
       "12328    8.134216      6.520000  ...     1.245378   1.013098   \n",
       "2969     8.160629      7.274844  ...     1.366600   1.489515   \n",
       "14094    5.946689      5.220456  ...     1.480683   1.108407   \n",
       "11754    9.574979     12.850331  ...     1.295047   1.184331   \n",
       "4306     9.112271      7.893827  ...     1.175360   1.196859   \n",
       "5789    15.688319     17.630442  ...     2.983218   1.850844   \n",
       "2481     5.413743      3.780000  ...     0.718361   1.002519   \n",
       "9924     6.774807      3.802588  ...     1.192926   0.913046   \n",
       "14184    5.077238      3.981691  ...     3.139649   1.276525   \n",
       "2312     9.704500      9.095000  ...     1.007468   1.199741   \n",
       "\n",
       "       acceleration_snr  acceleration_x_snr  acceleration_y_snr  \\\n",
       "12328          0.043354           -0.045272           18.008776   \n",
       "2969           0.046805            0.113935          -13.228464   \n",
       "14094          0.000000            0.341084           14.685728   \n",
       "11754         -0.053539           -0.660168           21.485855   \n",
       "4306           0.087033            0.081789           22.866424   \n",
       "5789           0.000000            0.246710           16.821999   \n",
       "2481          -0.067500            0.448081           15.617281   \n",
       "9924           0.000000            0.629657          -15.042109   \n",
       "14184          0.000000           -0.774281          -16.420177   \n",
       "2312           0.000000           -0.803599           17.924591   \n",
       "\n",
       "       acceleration_z_snr  gyro_x_snr  gyro_y_snr  gyro_z_snr  label  \n",
       "12328            4.176361   -0.013789    0.024338   -0.033890      1  \n",
       "2969             0.514310   -0.091478   -0.020205   -0.048220      1  \n",
       "14094            2.831484    0.025248    0.002778    0.010555      1  \n",
       "11754            7.750045   -0.040950    0.206538    0.185089      0  \n",
       "4306            -0.197371   -0.319559   -0.842363    0.253570      0  \n",
       "5789             1.322329   -0.019061    0.046319    0.051805      0  \n",
       "2481            10.164228   -0.008123    0.059390    0.055667      0  \n",
       "9924            -6.329486   -0.655068   -0.287266    0.043048      1  \n",
       "14184            0.773578   -0.037244   -0.067715    0.668308      0  \n",
       "2312            -1.714375    0.028680    0.037997   -0.032643      0  \n",
       "\n",
       "[10 rows x 41 columns]"
      ]
     },
     "execution_count": 24,
     "metadata": {},
     "output_type": "execute_result"
    }
   ],
   "source": [
    "feat_df.sample(10)"
   ]
  },
  {
   "cell_type": "code",
   "execution_count": 25,
   "metadata": {},
   "outputs": [
    {
     "data": {
      "text/html": [
       "<div>\n",
       "<style scoped>\n",
       "    .dataframe tbody tr th:only-of-type {\n",
       "        vertical-align: middle;\n",
       "    }\n",
       "\n",
       "    .dataframe tbody tr th {\n",
       "        vertical-align: top;\n",
       "    }\n",
       "\n",
       "    .dataframe thead th {\n",
       "        text-align: right;\n",
       "    }\n",
       "</style>\n",
       "<table border=\"1\" class=\"dataframe\">\n",
       "  <thead>\n",
       "    <tr style=\"text-align: right;\">\n",
       "      <th></th>\n",
       "      <th>bookingID</th>\n",
       "      <th>second|max</th>\n",
       "      <th>acceleration|min</th>\n",
       "      <th>acceleration|max</th>\n",
       "      <th>acceleration|mean</th>\n",
       "      <th>acceleration|median</th>\n",
       "      <th>Speed|min</th>\n",
       "      <th>Speed|max</th>\n",
       "      <th>Speed|mean</th>\n",
       "      <th>Speed|median</th>\n",
       "      <th>...</th>\n",
       "      <th>Bearing_snr</th>\n",
       "      <th>Speed_snr</th>\n",
       "      <th>acceleration_snr</th>\n",
       "      <th>acceleration_x_snr</th>\n",
       "      <th>acceleration_y_snr</th>\n",
       "      <th>acceleration_z_snr</th>\n",
       "      <th>gyro_x_snr</th>\n",
       "      <th>gyro_y_snr</th>\n",
       "      <th>gyro_z_snr</th>\n",
       "      <th>label</th>\n",
       "    </tr>\n",
       "  </thead>\n",
       "  <tbody>\n",
       "    <tr>\n",
       "      <th>count</th>\n",
       "      <td>1.998200e+04</td>\n",
       "      <td>1.998200e+04</td>\n",
       "      <td>19982.000000</td>\n",
       "      <td>19982.000000</td>\n",
       "      <td>19982.000000</td>\n",
       "      <td>19982.000000</td>\n",
       "      <td>19982.000000</td>\n",
       "      <td>19982.000000</td>\n",
       "      <td>19982.000000</td>\n",
       "      <td>19982.000000</td>\n",
       "      <td>...</td>\n",
       "      <td>19982.000000</td>\n",
       "      <td>19982.000000</td>\n",
       "      <td>19982.000000</td>\n",
       "      <td>19982.000000</td>\n",
       "      <td>19982.000000</td>\n",
       "      <td>19982.000000</td>\n",
       "      <td>1.998200e+04</td>\n",
       "      <td>1.998200e+04</td>\n",
       "      <td>1.998200e+04</td>\n",
       "      <td>19982.000000</td>\n",
       "    </tr>\n",
       "    <tr>\n",
       "      <th>mean</th>\n",
       "      <td>8.161654e+11</td>\n",
       "      <td>1.997500e+05</td>\n",
       "      <td>-5.183916</td>\n",
       "      <td>4.658037</td>\n",
       "      <td>-0.363164</td>\n",
       "      <td>0.004758</td>\n",
       "      <td>-0.229749</td>\n",
       "      <td>20.962369</td>\n",
       "      <td>8.427106</td>\n",
       "      <td>7.909898</td>\n",
       "      <td>...</td>\n",
       "      <td>2.350622</td>\n",
       "      <td>1.379657</td>\n",
       "      <td>0.009966</td>\n",
       "      <td>0.105295</td>\n",
       "      <td>7.649226</td>\n",
       "      <td>0.921966</td>\n",
       "      <td>-5.011695e+11</td>\n",
       "      <td>-1.229273e+11</td>\n",
       "      <td>1.310896e+11</td>\n",
       "      <td>0.249374</td>\n",
       "    </tr>\n",
       "    <tr>\n",
       "      <th>std</th>\n",
       "      <td>4.944728e+11</td>\n",
       "      <td>1.373755e+07</td>\n",
       "      <td>5.354948</td>\n",
       "      <td>5.745880</td>\n",
       "      <td>0.484721</td>\n",
       "      <td>0.004917</td>\n",
       "      <td>1.647574</td>\n",
       "      <td>5.315183</td>\n",
       "      <td>4.293325</td>\n",
       "      <td>5.707727</td>\n",
       "      <td>...</td>\n",
       "      <td>6.280023</td>\n",
       "      <td>1.117473</td>\n",
       "      <td>0.039491</td>\n",
       "      <td>1.403099</td>\n",
       "      <td>14.017292</td>\n",
       "      <td>3.807031</td>\n",
       "      <td>5.136108e+13</td>\n",
       "      <td>1.737672e+13</td>\n",
       "      <td>5.007862e+13</td>\n",
       "      <td>0.432662</td>\n",
       "    </tr>\n",
       "    <tr>\n",
       "      <th>min</th>\n",
       "      <td>0.000000e+00</td>\n",
       "      <td>1.190000e+02</td>\n",
       "      <td>-32.242094</td>\n",
       "      <td>-1.000000</td>\n",
       "      <td>-1.000000</td>\n",
       "      <td>-0.037522</td>\n",
       "      <td>-2.000000</td>\n",
       "      <td>-1.000000</td>\n",
       "      <td>-1.000000</td>\n",
       "      <td>-1.000000</td>\n",
       "      <td>...</td>\n",
       "      <td>0.000000</td>\n",
       "      <td>-5.709528</td>\n",
       "      <td>-0.706916</td>\n",
       "      <td>-21.930769</td>\n",
       "      <td>-100.073500</td>\n",
       "      <td>-45.471953</td>\n",
       "      <td>-6.140832e+15</td>\n",
       "      <td>-2.456333e+15</td>\n",
       "      <td>-3.521398e+15</td>\n",
       "      <td>0.000000</td>\n",
       "    </tr>\n",
       "    <tr>\n",
       "      <th>25%</th>\n",
       "      <td>3.865471e+11</td>\n",
       "      <td>5.540000e+02</td>\n",
       "      <td>-7.210923</td>\n",
       "      <td>0.499093</td>\n",
       "      <td>-1.000000</td>\n",
       "      <td>0.002298</td>\n",
       "      <td>-1.000000</td>\n",
       "      <td>17.256320</td>\n",
       "      <td>5.259188</td>\n",
       "      <td>3.535163</td>\n",
       "      <td>...</td>\n",
       "      <td>1.323344</td>\n",
       "      <td>0.987109</td>\n",
       "      <td>0.000000</td>\n",
       "      <td>-0.323965</td>\n",
       "      <td>-0.268547</td>\n",
       "      <td>-0.726496</td>\n",
       "      <td>-5.591672e-02</td>\n",
       "      <td>-5.977273e-02</td>\n",
       "      <td>-5.823254e-02</td>\n",
       "      <td>0.000000</td>\n",
       "    </tr>\n",
       "    <tr>\n",
       "      <th>50%</th>\n",
       "      <td>7.988639e+11</td>\n",
       "      <td>8.540000e+02</td>\n",
       "      <td>-3.186727</td>\n",
       "      <td>3.158137</td>\n",
       "      <td>-0.007141</td>\n",
       "      <td>0.005088</td>\n",
       "      <td>0.000000</td>\n",
       "      <td>21.058208</td>\n",
       "      <td>7.476763</td>\n",
       "      <td>6.549824</td>\n",
       "      <td>...</td>\n",
       "      <td>1.762051</td>\n",
       "      <td>1.189159</td>\n",
       "      <td>0.000000</td>\n",
       "      <td>0.070351</td>\n",
       "      <td>12.674634</td>\n",
       "      <td>0.707134</td>\n",
       "      <td>-7.199382e-03</td>\n",
       "      <td>-4.316469e-03</td>\n",
       "      <td>-5.419423e-03</td>\n",
       "      <td>0.000000</td>\n",
       "    </tr>\n",
       "    <tr>\n",
       "      <th>75%</th>\n",
       "      <td>1.245541e+12</td>\n",
       "      <td>1.217000e+03</td>\n",
       "      <td>-1.000000</td>\n",
       "      <td>7.062623</td>\n",
       "      <td>0.009032</td>\n",
       "      <td>0.007618</td>\n",
       "      <td>0.000000</td>\n",
       "      <td>24.902692</td>\n",
       "      <td>10.929455</td>\n",
       "      <td>11.300000</td>\n",
       "      <td>...</td>\n",
       "      <td>2.452378</td>\n",
       "      <td>1.457741</td>\n",
       "      <td>0.025466</td>\n",
       "      <td>0.472650</td>\n",
       "      <td>16.693681</td>\n",
       "      <td>2.474057</td>\n",
       "      <td>3.302861e-02</td>\n",
       "      <td>5.030578e-02</td>\n",
       "      <td>4.441973e-02</td>\n",
       "      <td>0.000000</td>\n",
       "    </tr>\n",
       "    <tr>\n",
       "      <th>max</th>\n",
       "      <td>1.709397e+12</td>\n",
       "      <td>1.495797e+09</td>\n",
       "      <td>-0.003981</td>\n",
       "      <td>32.350000</td>\n",
       "      <td>0.208250</td>\n",
       "      <td>0.025295</td>\n",
       "      <td>25.296043</td>\n",
       "      <td>148.018630</td>\n",
       "      <td>29.557195</td>\n",
       "      <td>30.468207</td>\n",
       "      <td>...</td>\n",
       "      <td>405.819974</td>\n",
       "      <td>33.092427</td>\n",
       "      <td>0.584441</td>\n",
       "      <td>38.572219</td>\n",
       "      <td>224.072356</td>\n",
       "      <td>199.294929</td>\n",
       "      <td>5.752457e+00</td>\n",
       "      <td>1.164161e+01</td>\n",
       "      <td>6.140832e+15</td>\n",
       "      <td>1.000000</td>\n",
       "    </tr>\n",
       "  </tbody>\n",
       "</table>\n",
       "<p>8 rows × 40 columns</p>\n",
       "</div>"
      ],
      "text/plain": [
       "          bookingID    second|max  acceleration|min  acceleration|max  \\\n",
       "count  1.998200e+04  1.998200e+04      19982.000000      19982.000000   \n",
       "mean   8.161654e+11  1.997500e+05         -5.183916          4.658037   \n",
       "std    4.944728e+11  1.373755e+07          5.354948          5.745880   \n",
       "min    0.000000e+00  1.190000e+02        -32.242094         -1.000000   \n",
       "25%    3.865471e+11  5.540000e+02         -7.210923          0.499093   \n",
       "50%    7.988639e+11  8.540000e+02         -3.186727          3.158137   \n",
       "75%    1.245541e+12  1.217000e+03         -1.000000          7.062623   \n",
       "max    1.709397e+12  1.495797e+09         -0.003981         32.350000   \n",
       "\n",
       "       acceleration|mean  acceleration|median     Speed|min     Speed|max  \\\n",
       "count       19982.000000         19982.000000  19982.000000  19982.000000   \n",
       "mean           -0.363164             0.004758     -0.229749     20.962369   \n",
       "std             0.484721             0.004917      1.647574      5.315183   \n",
       "min            -1.000000            -0.037522     -2.000000     -1.000000   \n",
       "25%            -1.000000             0.002298     -1.000000     17.256320   \n",
       "50%            -0.007141             0.005088      0.000000     21.058208   \n",
       "75%             0.009032             0.007618      0.000000     24.902692   \n",
       "max             0.208250             0.025295     25.296043    148.018630   \n",
       "\n",
       "         Speed|mean  Speed|median  ...   Bearing_snr     Speed_snr  \\\n",
       "count  19982.000000  19982.000000  ...  19982.000000  19982.000000   \n",
       "mean       8.427106      7.909898  ...      2.350622      1.379657   \n",
       "std        4.293325      5.707727  ...      6.280023      1.117473   \n",
       "min       -1.000000     -1.000000  ...      0.000000     -5.709528   \n",
       "25%        5.259188      3.535163  ...      1.323344      0.987109   \n",
       "50%        7.476763      6.549824  ...      1.762051      1.189159   \n",
       "75%       10.929455     11.300000  ...      2.452378      1.457741   \n",
       "max       29.557195     30.468207  ...    405.819974     33.092427   \n",
       "\n",
       "       acceleration_snr  acceleration_x_snr  acceleration_y_snr  \\\n",
       "count      19982.000000        19982.000000        19982.000000   \n",
       "mean           0.009966            0.105295            7.649226   \n",
       "std            0.039491            1.403099           14.017292   \n",
       "min           -0.706916          -21.930769         -100.073500   \n",
       "25%            0.000000           -0.323965           -0.268547   \n",
       "50%            0.000000            0.070351           12.674634   \n",
       "75%            0.025466            0.472650           16.693681   \n",
       "max            0.584441           38.572219          224.072356   \n",
       "\n",
       "       acceleration_z_snr    gyro_x_snr    gyro_y_snr    gyro_z_snr  \\\n",
       "count        19982.000000  1.998200e+04  1.998200e+04  1.998200e+04   \n",
       "mean             0.921966 -5.011695e+11 -1.229273e+11  1.310896e+11   \n",
       "std              3.807031  5.136108e+13  1.737672e+13  5.007862e+13   \n",
       "min            -45.471953 -6.140832e+15 -2.456333e+15 -3.521398e+15   \n",
       "25%             -0.726496 -5.591672e-02 -5.977273e-02 -5.823254e-02   \n",
       "50%              0.707134 -7.199382e-03 -4.316469e-03 -5.419423e-03   \n",
       "75%              2.474057  3.302861e-02  5.030578e-02  4.441973e-02   \n",
       "max            199.294929  5.752457e+00  1.164161e+01  6.140832e+15   \n",
       "\n",
       "              label  \n",
       "count  19982.000000  \n",
       "mean       0.249374  \n",
       "std        0.432662  \n",
       "min        0.000000  \n",
       "25%        0.000000  \n",
       "50%        0.000000  \n",
       "75%        0.000000  \n",
       "max        1.000000  \n",
       "\n",
       "[8 rows x 40 columns]"
      ]
     },
     "execution_count": 25,
     "metadata": {},
     "output_type": "execute_result"
    }
   ],
   "source": [
    "feat_df.describe()"
   ]
  },
  {
   "cell_type": "code",
   "execution_count": 26,
   "metadata": {},
   "outputs": [],
   "source": [
    "feat_df = feat_df.sort_values(by='bookingID')"
   ]
  },
  {
   "cell_type": "code",
   "execution_count": 34,
   "metadata": {},
   "outputs": [],
   "source": [
    "cols = ['acceleration_x|min', 'acceleration_x|max', 'acceleration_x|mean',\n",
    "       'acceleration_x|median', 'Speed|min', 'Speed|max', 'Speed|mean',\n",
    "       'Speed|median', 'second|max', 'acceleration_z|min',\n",
    "       'acceleration_z|max', 'acceleration_z|mean', 'acceleration_z|median',\n",
    "       'acceleration|min', 'acceleration|max', 'acceleration|mean',\n",
    "       'acceleration|median', 'acceleration_y|min', 'acceleration_y|max',\n",
    "       'acceleration_y|mean', 'acceleration_y|median', 'Bearing_g_3',\n",
    "       'acceleration_x_g_3', 'acceleration_y_g_3', 'acceleration_z_g_3',\n",
    "       'gyro_x_g_3', 'gyro_y_g_3', 'gyro_z_g_3', 'acceleration_ge_2',\n",
    "       'acceleration_ge_3', 'Bearing_snr', 'Speed_snr', 'acceleration_snr',\n",
    "       'acceleration_x_snr', 'acceleration_y_snr', 'acceleration_z_snr',\n",
    "       'gyro_x_snr', 'gyro_y_snr', 'gyro_z_snr']"
   ]
  },
  {
   "cell_type": "code",
   "execution_count": 36,
   "metadata": {},
   "outputs": [],
   "source": [
    "X = feat_df[cols]"
   ]
  },
  {
   "cell_type": "code",
   "execution_count": 37,
   "metadata": {},
   "outputs": [],
   "source": [
    "y_pred = model.predict(xgb.DMatrix(X), ntree_limit=model.best_iteration+1)\n",
    "y_pred = (y_pred > 0.5).astype(int)"
   ]
  },
  {
   "cell_type": "markdown",
   "metadata": {},
   "source": [
    "# Check for AUC"
   ]
  },
  {
   "cell_type": "code",
   "execution_count": 38,
   "metadata": {},
   "outputs": [],
   "source": [
    "# take only label 0 and 1\n",
    "y = feat_df['label'].values"
   ]
  },
  {
   "cell_type": "code",
   "execution_count": 39,
   "metadata": {},
   "outputs": [],
   "source": [
    "# Compute micro-average ROC curve and ROC area\n",
    "fpr, tpr, _ = roc_curve(y, y_pred)\n",
    "roc_auc = auc(fpr, tpr)"
   ]
  },
  {
   "cell_type": "code",
   "execution_count": 40,
   "metadata": {},
   "outputs": [
    {
     "name": "stdout",
     "output_type": "stream",
     "text": [
      "0.5916765914035047\n"
     ]
    }
   ],
   "source": [
    "print(roc_auc)"
   ]
  },
  {
   "cell_type": "code",
   "execution_count": 42,
   "metadata": {},
   "outputs": [
    {
     "name": "stderr",
     "output_type": "stream",
     "text": [
      "/usr/local/envs/py3env/lib/python3.5/site-packages/matplotlib/font_manager.py:1320: UserWarning: findfont: Font family ['sans-serif'] not found. Falling back to DejaVu Sans\n",
      "  (prop.get_family(), self.defaultFamily[fontext]))\n"
     ]
    },
    {
     "data": {
      "image/png": "[encoded data removed]",
      "text/plain": [
       "<matplotlib.figure.Figure at 0x7fb8c1b3bac8>"
      ]
     },
     "metadata": {},
     "output_type": "display_data"
    }
   ],
   "source": [
    "plt.figure()\n",
    "lw = 2\n",
    "plt.plot(fpr, tpr, color='darkorange',\n",
    "         lw=lw, label='ROC curve (area = %0.2f)' % roc_auc)\n",
    "plt.plot([0, 1], [0, 1], color='navy', lw=lw, linestyle='--')\n",
    "plt.xlim([-0.02, 1.0])\n",
    "plt.ylim([0.0, 1.05])\n",
    "plt.xlabel('False Positive Rate')\n",
    "plt.ylabel('True Positive Rate')\n",
    "plt.title('ROC curve')\n",
    "plt.legend(loc=\"lower right\")\n",
    "plt.show()"
   ]
  },
  {
   "cell_type": "code",
   "execution_count": null,
   "metadata": {},
   "outputs": [],
   "source": []
  }
 ],
 "metadata": {
  "kernelspec": {
   "display_name": "Python 3",
   "language": "python",
   "name": "python3"
  },
  "language_info": {
   "codemirror_mode": {
    "name": "ipython",
    "version": 3
   },
   "file_extension": ".py",
   "mimetype": "text/x-python",
   "name": "python",
   "nbconvert_exporter": "python",
   "pygments_lexer": "ipython3",
   "version": "3.5.6"
  }
 },
 "nbformat": 4,
 "nbformat_minor": 2
}
